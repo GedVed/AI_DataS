{
 "cells": [
  {
   "cell_type": "markdown",
   "id": "2d883a30-55b4-4b27-ad7a-65231d84b69b",
   "metadata": {},
   "source": [
    "# Android malware analysis"
   ]
  },
  {
   "cell_type": "markdown",
   "id": "9e9f766d-de30-4801-bf07-b4dbdb80bdfa",
   "metadata": {},
   "source": [
    "This notebook represents AI4 individual challenge, it provides insight into my work in the area of cybersecurity, and how I use data science to train machine learning algorithms to detect malware."
   ]
  },
  {
   "cell_type": "markdown",
   "id": "e7610441-2bf7-4f5a-a5b1-1b11d19969d5",
   "metadata": {},
   "source": [
    "# Background"
   ]
  },
  {
   "cell_type": "markdown",
   "id": "3b93f4fa-6d86-4324-a3b1-d9e5ea6bf838",
   "metadata": {},
   "source": [
    "Android is the most popular OS used on mobile systems[1] on the planet having a 75% of mobile OS share. Moreover,  it is the most popular OS worldwide, beating even Microsoft Windows and macOS. Several reasons contribute to its popularity, first and foremost it is open-sourced which contributed greatly to its adoption in the market. However, due to its core design philosophy, it also allows users to install third-party applications without central control, thus becoming a malware target. Even though it includes security mechanisms, cybersecurity is a never-ending race between hackers and cybersecurity specialists, making the development of frameworks and methods to improve its security."
   ]
  },
  {
   "cell_type": "markdown",
   "id": "eef5d31c-4063-45ae-8e6a-4034c5d83b53",
   "metadata": {},
   "source": [
    "# Analysis"
   ]
  },
  {
   "cell_type": "markdown",
   "id": "d02bd00f-4913-4d31-b760-c9c43045fccd",
   "metadata": {},
   "source": [
    "Two approaches can be used to analyze cyber threads, static analysis, and dynamic analysis. \n",
    "\n",
    "Static analysis: allows to get information about software(predict) without executing it, this can include studying the code, calls, and access to resources.\n",
    "\n",
    "Dynamic analysis: another approach to analysis and prediction of cyber threats is to get information while they are executed, and gather information about their behavior ex. network traffic. \n",
    "\n",
    "In this project, the static analysis will be used to detect malware."
   ]
  },
  {
   "cell_type": "markdown",
   "id": "20e14576-c4bb-47ff-ac67-6f254f162ee0",
   "metadata": {},
   "source": [
    "# Dataset"
   ]
  },
  {
   "cell_type": "markdown",
   "id": "a9f01780-f594-43d2-8622-66e2cd8db29e",
   "metadata": {},
   "source": [
    "The chosen dataset is Drebin, it is a dataset that consists of malware samples taken between 2012 and 2015. This set has a size of 15036 applications that are grouped into 49 families. It contains two features sets: API calls and permission manifest."
   ]
  },
  {
   "cell_type": "markdown",
   "id": "698c9386-fe7f-4f0c-becd-e5ad05593408",
   "metadata": {},
   "source": [
    "Importing necessary libraries for this project"
   ]
  },
  {
   "cell_type": "code",
   "execution_count": 189,
   "id": "5dca5326-698c-4a0d-b0b2-191edfa7d7b5",
   "metadata": {},
   "outputs": [],
   "source": [
    "import numpy as np \n",
    "import pandas as pd \n",
    "import time\n",
    "from sklearn.feature_selection import SelectKBest\n",
    "from sklearn.feature_selection import chi2, f_regression\n",
    "from numpy import array\n",
    "from sklearn.preprocessing import StandardScaler\n",
    "from sklearn.model_selection import train_test_split\n",
    "from sklearn.neighbors import KNeighborsClassifier\n",
    "from sklearn.svm import SVC\n",
    "from sklearn.linear_model import Lasso\n",
    "from sklearn import metrics\n",
    "from sklearn.pipeline import Pipeline\n",
    "from sklearn.model_selection import KFold\n",
    "from sklearn.model_selection import StratifiedKFold\n",
    "from sklearn.model_selection import cross_val_score\n",
    "from sklearn.model_selection import RepeatedKFold\n",
    "from sklearn.model_selection import GridSearchCV\n",
    "from sklearn.experimental import enable_halving_search_cv  # noqa\n",
    "from sklearn.model_selection import HalvingGridSearchCV\n",
    "import eli5\n",
    "from sklearn.metrics import mean_squared_error\n",
    "from sklearn.linear_model import Lasso"
   ]
  },
  {
   "cell_type": "markdown",
   "id": "e651888f-a873-4c5f-8f8f-69a348f20c4c",
   "metadata": {},
   "source": [
    "Reading dataset into the Jupyter notebook"
   ]
  },
  {
   "cell_type": "code",
   "execution_count": 50,
   "id": "64d801a0-c034-4016-a6f7-3ec083ad82c5",
   "metadata": {},
   "outputs": [
    {
     "data": {
      "text/html": [
       "<div>\n",
       "<style scoped>\n",
       "    .dataframe tbody tr th:only-of-type {\n",
       "        vertical-align: middle;\n",
       "    }\n",
       "\n",
       "    .dataframe tbody tr th {\n",
       "        vertical-align: top;\n",
       "    }\n",
       "\n",
       "    .dataframe thead th {\n",
       "        text-align: right;\n",
       "    }\n",
       "</style>\n",
       "<table border=\"1\" class=\"dataframe\">\n",
       "  <thead>\n",
       "    <tr style=\"text-align: right;\">\n",
       "      <th></th>\n",
       "      <th>transact</th>\n",
       "      <th>onServiceConnected</th>\n",
       "      <th>bindService</th>\n",
       "      <th>attachInterface</th>\n",
       "      <th>ServiceConnection</th>\n",
       "      <th>android.os.Binder</th>\n",
       "      <th>SEND_SMS</th>\n",
       "      <th>Ljava.lang.Class.getCanonicalName</th>\n",
       "      <th>Ljava.lang.Class.getMethods</th>\n",
       "      <th>Ljava.lang.Class.cast</th>\n",
       "      <th>...</th>\n",
       "      <th>READ_CONTACTS</th>\n",
       "      <th>DEVICE_POWER</th>\n",
       "      <th>HARDWARE_TEST</th>\n",
       "      <th>ACCESS_WIFI_STATE</th>\n",
       "      <th>WRITE_EXTERNAL_STORAGE</th>\n",
       "      <th>ACCESS_FINE_LOCATION</th>\n",
       "      <th>SET_WALLPAPER_HINTS</th>\n",
       "      <th>SET_PREFERRED_APPLICATIONS</th>\n",
       "      <th>WRITE_SECURE_SETTINGS</th>\n",
       "      <th>CLASS</th>\n",
       "    </tr>\n",
       "  </thead>\n",
       "  <tbody>\n",
       "    <tr>\n",
       "      <th>0</th>\n",
       "      <td>0</td>\n",
       "      <td>0</td>\n",
       "      <td>0</td>\n",
       "      <td>0</td>\n",
       "      <td>0</td>\n",
       "      <td>0</td>\n",
       "      <td>1</td>\n",
       "      <td>0</td>\n",
       "      <td>0</td>\n",
       "      <td>0</td>\n",
       "      <td>...</td>\n",
       "      <td>0</td>\n",
       "      <td>0</td>\n",
       "      <td>0</td>\n",
       "      <td>0</td>\n",
       "      <td>1</td>\n",
       "      <td>0</td>\n",
       "      <td>0</td>\n",
       "      <td>0</td>\n",
       "      <td>0</td>\n",
       "      <td>S</td>\n",
       "    </tr>\n",
       "    <tr>\n",
       "      <th>1</th>\n",
       "      <td>0</td>\n",
       "      <td>0</td>\n",
       "      <td>0</td>\n",
       "      <td>0</td>\n",
       "      <td>0</td>\n",
       "      <td>0</td>\n",
       "      <td>1</td>\n",
       "      <td>0</td>\n",
       "      <td>0</td>\n",
       "      <td>0</td>\n",
       "      <td>...</td>\n",
       "      <td>0</td>\n",
       "      <td>0</td>\n",
       "      <td>0</td>\n",
       "      <td>0</td>\n",
       "      <td>1</td>\n",
       "      <td>0</td>\n",
       "      <td>0</td>\n",
       "      <td>0</td>\n",
       "      <td>0</td>\n",
       "      <td>S</td>\n",
       "    </tr>\n",
       "    <tr>\n",
       "      <th>2</th>\n",
       "      <td>0</td>\n",
       "      <td>0</td>\n",
       "      <td>0</td>\n",
       "      <td>0</td>\n",
       "      <td>0</td>\n",
       "      <td>0</td>\n",
       "      <td>1</td>\n",
       "      <td>0</td>\n",
       "      <td>0</td>\n",
       "      <td>0</td>\n",
       "      <td>...</td>\n",
       "      <td>0</td>\n",
       "      <td>0</td>\n",
       "      <td>0</td>\n",
       "      <td>0</td>\n",
       "      <td>0</td>\n",
       "      <td>0</td>\n",
       "      <td>0</td>\n",
       "      <td>0</td>\n",
       "      <td>0</td>\n",
       "      <td>S</td>\n",
       "    </tr>\n",
       "    <tr>\n",
       "      <th>3</th>\n",
       "      <td>0</td>\n",
       "      <td>0</td>\n",
       "      <td>0</td>\n",
       "      <td>0</td>\n",
       "      <td>0</td>\n",
       "      <td>0</td>\n",
       "      <td>0</td>\n",
       "      <td>0</td>\n",
       "      <td>0</td>\n",
       "      <td>1</td>\n",
       "      <td>...</td>\n",
       "      <td>0</td>\n",
       "      <td>0</td>\n",
       "      <td>0</td>\n",
       "      <td>1</td>\n",
       "      <td>1</td>\n",
       "      <td>1</td>\n",
       "      <td>0</td>\n",
       "      <td>0</td>\n",
       "      <td>0</td>\n",
       "      <td>S</td>\n",
       "    </tr>\n",
       "    <tr>\n",
       "      <th>4</th>\n",
       "      <td>0</td>\n",
       "      <td>0</td>\n",
       "      <td>0</td>\n",
       "      <td>0</td>\n",
       "      <td>0</td>\n",
       "      <td>0</td>\n",
       "      <td>0</td>\n",
       "      <td>0</td>\n",
       "      <td>0</td>\n",
       "      <td>0</td>\n",
       "      <td>...</td>\n",
       "      <td>0</td>\n",
       "      <td>0</td>\n",
       "      <td>0</td>\n",
       "      <td>1</td>\n",
       "      <td>0</td>\n",
       "      <td>1</td>\n",
       "      <td>0</td>\n",
       "      <td>0</td>\n",
       "      <td>0</td>\n",
       "      <td>S</td>\n",
       "    </tr>\n",
       "  </tbody>\n",
       "</table>\n",
       "<p>5 rows × 216 columns</p>\n",
       "</div>"
      ],
      "text/plain": [
       "   transact  onServiceConnected  bindService  attachInterface  \\\n",
       "0         0                   0            0                0   \n",
       "1         0                   0            0                0   \n",
       "2         0                   0            0                0   \n",
       "3         0                   0            0                0   \n",
       "4         0                   0            0                0   \n",
       "\n",
       "   ServiceConnection  android.os.Binder  SEND_SMS  \\\n",
       "0                  0                  0         1   \n",
       "1                  0                  0         1   \n",
       "2                  0                  0         1   \n",
       "3                  0                  0         0   \n",
       "4                  0                  0         0   \n",
       "\n",
       "   Ljava.lang.Class.getCanonicalName  Ljava.lang.Class.getMethods  \\\n",
       "0                                  0                            0   \n",
       "1                                  0                            0   \n",
       "2                                  0                            0   \n",
       "3                                  0                            0   \n",
       "4                                  0                            0   \n",
       "\n",
       "   Ljava.lang.Class.cast  ...  READ_CONTACTS  DEVICE_POWER  HARDWARE_TEST  \\\n",
       "0                      0  ...              0             0              0   \n",
       "1                      0  ...              0             0              0   \n",
       "2                      0  ...              0             0              0   \n",
       "3                      1  ...              0             0              0   \n",
       "4                      0  ...              0             0              0   \n",
       "\n",
       "   ACCESS_WIFI_STATE  WRITE_EXTERNAL_STORAGE  ACCESS_FINE_LOCATION  \\\n",
       "0                  0                       1                     0   \n",
       "1                  0                       1                     0   \n",
       "2                  0                       0                     0   \n",
       "3                  1                       1                     1   \n",
       "4                  1                       0                     1   \n",
       "\n",
       "   SET_WALLPAPER_HINTS  SET_PREFERRED_APPLICATIONS  WRITE_SECURE_SETTINGS  \\\n",
       "0                    0                           0                      0   \n",
       "1                    0                           0                      0   \n",
       "2                    0                           0                      0   \n",
       "3                    0                           0                      0   \n",
       "4                    0                           0                      0   \n",
       "\n",
       "   CLASS  \n",
       "0      S  \n",
       "1      S  \n",
       "2      S  \n",
       "3      S  \n",
       "4      S  \n",
       "\n",
       "[5 rows x 216 columns]"
      ]
     },
     "execution_count": 50,
     "metadata": {},
     "output_type": "execute_result"
    }
   ],
   "source": [
    "df_malware = pd.read_csv(\"C:\\\\Users\\\\Marcin\\\\Desktop\\\\fontys\\\\4th semester\\\\Individual Challenge\\challenge 1\\Chosen Dataset\\\\drebin\\\\challenge dataset.csv\",\n",
    "                        low_memory = False)\n",
    "df_malware.head(5)"
   ]
  },
  {
   "cell_type": "markdown",
   "id": "f5fac264-3654-4258-95a2-47da97b1365c",
   "metadata": {},
   "source": [
    "Display of dataset information: number of columns(features) and rows, as well as the type of data."
   ]
  },
  {
   "cell_type": "code",
   "execution_count": 3,
   "id": "b3976ac1-7df5-42f8-a655-fffdd9aa4a08",
   "metadata": {},
   "outputs": [
    {
     "name": "stdout",
     "output_type": "stream",
     "text": [
      "<class 'pandas.core.frame.DataFrame'>\n",
      "RangeIndex: 15036 entries, 0 to 15035\n",
      "Columns: 216 entries, transact to CLASS\n",
      "dtypes: int64(214), object(2)\n",
      "memory usage: 24.8+ MB\n"
     ]
    }
   ],
   "source": [
    "df_malware.info()"
   ]
  },
  {
   "cell_type": "markdown",
   "id": "21bbe2e3-1c81-4b94-aad6-b0c230f746b4",
   "metadata": {},
   "source": [
    "This dataset contains 15036 entries(15036 tested applications), it has 216 columns and 215 features. Moreover, 215 data types are integers and one object: class. Class defines whether the tested sample was malware or not (S=Malware, B=Benign)."
   ]
  },
  {
   "cell_type": "markdown",
   "id": "6e29092e-36eb-42e6-8927-1ebc45f96b26",
   "metadata": {},
   "source": [
    "Display of target variable balance"
   ]
  },
  {
   "cell_type": "code",
   "execution_count": 4,
   "id": "ab323ecd-4a5b-4117-8a1c-6bdfec1757e4",
   "metadata": {},
   "outputs": [
    {
     "name": "stdout",
     "output_type": "stream",
     "text": [
      "B    9476\n",
      "S    5560\n",
      "Name: CLASS, dtype: int64\n"
     ]
    }
   ],
   "source": [
    "print(df_malware['CLASS'].value_counts())"
   ]
  },
  {
   "cell_type": "markdown",
   "id": "de606b87-a4b6-4937-b676-a4e8561f5636",
   "metadata": {},
   "source": [
    "Dataset contains 9476 benign samples and 5560 malware samples. 36.9% of dataset consists of malware samples."
   ]
  },
  {
   "cell_type": "markdown",
   "id": "a087c736-35fd-4ee7-b18a-a79e3cb99644",
   "metadata": {},
   "source": [
    "# Feature selection"
   ]
  },
  {
   "cell_type": "markdown",
   "id": "7001ca33-5615-4ce1-bcc5-83ea0f7811c6",
   "metadata": {},
   "source": [
    "During the initial stages of the project, the 215 features were deemed to be too much for prediction(possibility of overfitting). Hence, the KBest, as well as Lasso algorithms, were used to find out the best statistical features to be used with ML algorithm. However, the literature research and University of Gottingen[1] research pointed out that malware analysis can be done with large feature sets, well beyond 600 featues[1]. Thus, all features of the dataset will be taken into the account in this project. \n",
    "\n",
    "Note: The feature selection has been moved to the bottom of the notebook."
   ]
  },
  {
   "cell_type": "markdown",
   "id": "615fb82f-d3c0-450f-8bc9-bec258a62d87",
   "metadata": {},
   "source": [
    "# Check for null values"
   ]
  },
  {
   "cell_type": "markdown",
   "id": "bd1a2d6f-636e-4a81-89c6-3e81d1a8bf5c",
   "metadata": {},
   "source": [
    "To feed this data into ML algorithm, I'm making sure that this dataset does not contain any null or missing values that could either skew the results or do not work at all. The code below will check if there are any of them in the dataset."
   ]
  },
  {
   "cell_type": "code",
   "execution_count": 5,
   "id": "23e4827b-89fe-47c8-85ae-5d04f166cf52",
   "metadata": {},
   "outputs": [
    {
     "data": {
      "text/plain": [
       "0"
      ]
     },
     "execution_count": 5,
     "metadata": {},
     "output_type": "execute_result"
    }
   ],
   "source": [
    "df_malware.isnull().values.sum()"
   ]
  },
  {
   "cell_type": "markdown",
   "id": "9aa74536-fe34-4c61-a6d1-77cb83d981e8",
   "metadata": {},
   "source": [
    "The number of missing values is 0, which means that this dataset does not contain any of them. This allows me to start applying ML algorithm to the dataset."
   ]
  },
  {
   "cell_type": "markdown",
   "id": "20d44c14-2966-4ecd-97d7-32d9d99a61ca",
   "metadata": {},
   "source": [
    "# Dataset Transformation"
   ]
  },
  {
   "cell_type": "markdown",
   "id": "3dbfa5fe-882b-4753-af6b-a61a9938b964",
   "metadata": {},
   "source": [
    " "
   ]
  },
  {
   "cell_type": "markdown",
   "id": "0bd9b1bd-7c81-4322-b424-0170906a56aa",
   "metadata": {},
   "source": [
    "In the section below I'm transforming the dataset to eliminate strings inside it. Replacement of CLASS values to binary(1 - Malware, 0 - Benign) and changing the type to int64. "
   ]
  },
  {
   "cell_type": "code",
   "execution_count": 51,
   "id": "2609598e-caf1-4a60-bb80-cd204fc555f3",
   "metadata": {},
   "outputs": [],
   "source": [
    "df_malware['CLASS'] = df_malware['CLASS'].replace(\n",
    "    to_replace=['S'], \n",
    "    value='1')\n",
    "df_malware['CLASS'] = df_malware['CLASS'].replace(\n",
    "    to_replace=['B'], \n",
    "    value='0')\n",
    "df_malware['CLASS'] = df_malware['CLASS'].astype('int64')"
   ]
  },
  {
   "cell_type": "markdown",
   "id": "fcee5391-9871-4f9d-8f69-ae282347311c",
   "metadata": {},
   "source": [
    "# Data Preparation"
   ]
  },
  {
   "cell_type": "markdown",
   "id": "9d027d14-8840-4919-803a-3708ae2f43dd",
   "metadata": {},
   "source": [
    "In the section below I'm selecting my target variable(CLASS)."
   ]
  },
  {
   "cell_type": "code",
   "execution_count": 52,
   "id": "6090e47f-27db-4880-8eb1-e3ce628860a7",
   "metadata": {},
   "outputs": [],
   "source": [
    "#selection of target\n",
    "y = df_malware.iloc[:,-1] #target variable\n",
    "X = df_malware.drop(['CLASS'], axis = 1) #dataset"
   ]
  },
  {
   "cell_type": "markdown",
   "id": "494a964b-1219-4195-a6a8-7f4029d03a48",
   "metadata": {},
   "source": [
    "After running the selectKbest several times, each time python method has executed with an error, unknown sign \"?\". After close inspection of the dataset I was unable to locate the source of question mark. My search included: searching through dataset with pandas build in functions did not yield any results."
   ]
  },
  {
   "cell_type": "code",
   "execution_count": 10,
   "id": "43c61e3b-2e94-4d06-a9c8-ee94404e21a2",
   "metadata": {},
   "outputs": [
    {
     "data": {
      "text/html": [
       "<div>\n",
       "<style scoped>\n",
       "    .dataframe tbody tr th:only-of-type {\n",
       "        vertical-align: middle;\n",
       "    }\n",
       "\n",
       "    .dataframe tbody tr th {\n",
       "        vertical-align: top;\n",
       "    }\n",
       "\n",
       "    .dataframe thead th {\n",
       "        text-align: right;\n",
       "    }\n",
       "</style>\n",
       "<table border=\"1\" class=\"dataframe\">\n",
       "  <thead>\n",
       "    <tr style=\"text-align: right;\">\n",
       "      <th></th>\n",
       "      <th>transact</th>\n",
       "      <th>bindService</th>\n",
       "      <th>onServiceConnected</th>\n",
       "      <th>ServiceConnection</th>\n",
       "      <th>android.os.Binder</th>\n",
       "      <th>READ_SMS</th>\n",
       "      <th>attachInterface</th>\n",
       "      <th>WRITE_SMS</th>\n",
       "      <th>TelephonyManager.getSubscriberId</th>\n",
       "      <th>Ljava.lang.Class.getCanonicalName</th>\n",
       "      <th>...</th>\n",
       "      <th>Ljava.lang.Object.getClass</th>\n",
       "      <th>SET_ORIENTATION</th>\n",
       "      <th>DEVICE_POWER</th>\n",
       "      <th>EXPAND_STATUS_BAR</th>\n",
       "      <th>GET_TASKS</th>\n",
       "      <th>GLOBAL_SEARCH</th>\n",
       "      <th>GET_PACKAGE_SIZE</th>\n",
       "      <th>SET_PREFERRED_APPLICATIONS</th>\n",
       "      <th>android.intent.action.PACKAGE_CHANGED</th>\n",
       "      <th>CLASS</th>\n",
       "    </tr>\n",
       "  </thead>\n",
       "  <tbody>\n",
       "  </tbody>\n",
       "</table>\n",
       "<p>0 rows × 216 columns</p>\n",
       "</div>"
      ],
      "text/plain": [
       "Empty DataFrame\n",
       "Columns: [transact, bindService, onServiceConnected, ServiceConnection, android.os.Binder, READ_SMS, attachInterface, WRITE_SMS, TelephonyManager.getSubscriberId, Ljava.lang.Class.getCanonicalName, Ljava.lang.Class.getMethods, android.intent.action.BOOT_COMPLETED, Ljava.lang.Class.getField, READ_PHONE_STATE, Landroid.content.Context.unregisterReceiver, GET_ACCOUNTS, SEND_SMS, Landroid.content.Context.registerReceiver, getBinder, Ljava.lang.Class.cast, chmod, createSubprocess, Ljava.net.URLDecoder, WRITE_APN_SETTINGS, TelephonyManager.getDeviceId, RECEIVE_SMS, Ljava.lang.Class.getDeclaredField, HttpGet.init, Ljava.lang.Class.getPackage, abortBroadcast, ClassLoader, TelephonyManager.getLine1Number, getCallingUid, USE_CREDENTIALS, MANAGE_ACCOUNTS, android.telephony.gsm.SmsManager, .system.bin, Ljava.lang.Class.getMethod, RESTART_PACKAGES, INSTALL_PACKAGES, Ljava.lang.Class.forName, TelephonyManager.getSimSerialNumber, CAMERA, CALL_PHONE, android.intent.action.SEND, onBind, android.content.pm.Signature, READ_SYNC_SETTINGS, AUTHENTICATE_ACCOUNTS, INTERNET, PackageInstaller, ACCESS_LOCATION_EXTRA_COMMANDS, HttpUriRequest, remount, android.telephony.SmsManager, RECEIVE_BOOT_COMPLETED, android.intent.action.ACTION_POWER_CONNECTED, findClass, WRITE_CONTACTS, .system.app, Ljava.lang.Class.getResource, WRITE_SYNC_SETTINGS, android.intent.action.TIME_SET, android.intent.action.SEND_MULTIPLE, ACCESS_WIFI_STATE, URLClassLoader, BLUETOOTH, WAKE_LOCK, SYSTEM_ALERT_WINDOW, TelephonyManager.getSimCountryIso, chown, NFC, READ_HISTORY_BOOKMARKS, HttpPost.init, TelephonyManager.getNetworkOperator, Ljava.lang.Class.getClasses, BIND_REMOTEVIEWS, READ_PROFILE, READ_CALENDAR, CHANGE_WIFI_STATE, READ_SYNC_STATS, WRITE_HISTORY_BOOKMARKS, DISABLE_KEYGUARD, READ_LOGS, RECORD_AUDIO, getCallingPid, MODIFY_AUDIO_SETTINGS, android.intent.action.PACKAGE_REPLACED, android.intent.action.TIMEZONE_CHANGED, BROADCAST_STICKY, Runtime.exec, android.intent.action.PACKAGE_ADDED, MOUNT_UNMOUNT_FILESYSTEMS, android.intent.action.ACTION_POWER_DISCONNECTED, Ljava.lang.Class.getDeclaredClasses, android.intent.action.PACKAGE_REMOVED, BLUETOOTH_ADMIN, android.os.IBinder, IBinder, WRITE_SECURE_SETTINGS, ...]\n",
       "Index: []\n",
       "\n",
       "[0 rows x 216 columns]"
      ]
     },
     "execution_count": 10,
     "metadata": {},
     "output_type": "execute_result"
    }
   ],
   "source": [
    "df_malware[df_malware.eq(\"?\").any(1)]"
   ]
  },
  {
   "cell_type": "markdown",
   "id": "8ff8a660-f519-46cf-8764-bdaae2315f67",
   "metadata": {},
   "source": [
    "However, the search function of Microsoft Excel can find them inside the dataset. To remove them, I'm converting both the target variable and the dataset to the numeric type. Moreover, I'm replacing the NaN values(which do not exist - see above) with 0. The combination of both methods removes the \"?\" from the dataset. As of now, I wasn't able to pinpoint why this happens(maybe formatting/import error)."
   ]
  },
  {
   "cell_type": "markdown",
   "id": "9aaa54c6-7cb1-4ea3-a885-543dc6aae278",
   "metadata": {},
   "source": [
    " "
   ]
  },
  {
   "cell_type": "code",
   "execution_count": 53,
   "id": "2237b3c9-b2eb-4adb-87a2-13f215c74cc6",
   "metadata": {},
   "outputs": [],
   "source": [
    "#removal of \"?\" sign - throws error without it\n",
    "y=y.apply(pd.to_numeric, errors = 'coerce')\n",
    "X=X.apply(pd.to_numeric, errors = 'coerce')\n",
    "\n",
    "X.fillna(0, inplace=True)\n",
    "y.fillna(0, inplace=True)"
   ]
  },
  {
   "cell_type": "markdown",
   "id": "07c3a182-dfa4-4138-a439-8f8b638ef83e",
   "metadata": {},
   "source": [
    "The next cell represents the splitting of the dataset into train and test, random_state is set to a specific number to ensure that each time it results in the same split."
   ]
  },
  {
   "cell_type": "code",
   "execution_count": 54,
   "id": "67f72107-c047-4a8c-9932-87e4668449bb",
   "metadata": {},
   "outputs": [],
   "source": [
    "#splitting data into training and test set\n",
    "X_train, X_test, y_train, y_test = train_test_split(X, y, test_size=0.2, random_state=42)"
   ]
  },
  {
   "cell_type": "markdown",
   "id": "fa840709-3bfe-4458-a7b3-9d4c9d3d60e3",
   "metadata": {},
   "source": [
    "# Feature scaling"
   ]
  },
  {
   "cell_type": "code",
   "execution_count": 136,
   "id": "1d931086-27a3-4b58-96ff-cde76c7024af",
   "metadata": {},
   "outputs": [],
   "source": [
    "#sc = StandardScaler()\n",
    "#sc.fit(X_train)\n",
    "#X_train_std = sc.transform(X_train)\n",
    "#X_test_std = sc.transform(X_test)"
   ]
  },
  {
   "cell_type": "markdown",
   "id": "16450e87-9681-4c80-959a-b15093ee7d20",
   "metadata": {},
   "source": [
    "# Prediction classifier"
   ]
  },
  {
   "cell_type": "markdown",
   "id": "b3b6e33f-1a88-45f1-b77a-242a5d25cf04",
   "metadata": {},
   "source": [
    "After consulting the lecturers and litrature review, the best suited classifier for large feature sets is SVM[2]. SVM determines the hyperplane that seperates both classes with maximum margin, and given the vectors(2 classes), classification is based on where the application could lands.  \n",
    "\n",
    "Hyperplane[2] <img src=\"Hyperplane.jpg\" width=400 height=400 />"
   ]
  },
  {
   "cell_type": "markdown",
   "id": "c475bed6-5788-4a90-ad3d-616a3a2eeda2",
   "metadata": {},
   "source": [
    "First iteration of SVM with deafult values, that will be compared to parameter tuned one."
   ]
  },
  {
   "cell_type": "code",
   "execution_count": 10,
   "id": "802c4b87-78c7-4d2b-947e-2e81f4387507",
   "metadata": {},
   "outputs": [
    {
     "name": "stdout",
     "output_type": "stream",
     "text": [
      "Accuracy without tuned hyperparameters is : 98.11%\n"
     ]
    }
   ],
   "source": [
    "svm_malware = SVC()\n",
    "svm_malware.fit(X_train, y_train)\n",
    "pred = svm_malware.predict(X_test)\n",
    "acc = metrics.accuracy_score(pred, y_test)*100\n",
    "print(\"Accuracy without tuned hyperparameters is : {:.2f}%\".format(acc))"
   ]
  },
  {
   "cell_type": "markdown",
   "id": "5f654ba9-315b-47a8-a4af-ce42b0367327",
   "metadata": {},
   "source": [
    "Due to high initial accuracy, it is conceivable that SVM model is overfitting the data."
   ]
  },
  {
   "cell_type": "markdown",
   "id": "f47dd5db-0a13-4d20-9361-7691929f0c6d",
   "metadata": {},
   "source": [
    "# Hyper-parameter tuning"
   ]
  },
  {
   "cell_type": "markdown",
   "id": "55813255-c92f-40eb-9113-1fc0d366e404",
   "metadata": {},
   "source": [
    "The machine learning model is defined as a mathematical model with parameters. Those parameters have to be learned from the available data. ML models also use parameters called \"hyper-parameters\", they are responsible for better \"fitting\" of the model to the data(improving complexity, learning rate). Often chosen by trial and error. Models can have multiple hyper-parameters that influence their behavior. SVM alone has 15 hyper-parameters that can changed. Although, not all at once, as some of them are only specific to certain kernels. \n",
    "\n",
    "To avoid manual tuning, python has build-in tools to help with hyper-parameter tuning. The best solution to this is to create a parameter grid, with all possible combinations. Moreover, it is recommened that hyper-parameter tuning done with parameters spaced as much as possible[1]( ex. C value from 1 to 1000). \n",
    "\n",
    "Sklearn implementation of this approach is SearchGridCV, which takes dictionary of parameters and use brute force method by trying every possible combination. Brute force methods are by design computation intensive. "
   ]
  },
  {
   "cell_type": "markdown",
   "id": "603a289f-ee4d-44c7-9534-ebd0c5f40f02",
   "metadata": {},
   "source": [
    "Test parameters will be used ilustrate computation time."
   ]
  },
  {
   "cell_type": "code",
   "execution_count": 17,
   "id": "892dea4f-5ac4-4e57-87b6-d9fa9c3005cf",
   "metadata": {},
   "outputs": [],
   "source": [
    "param_grid_test = {'C': [1, 10, 100],\n",
    "                   'gamma': [1, 0.1, 0.01, 0.001], \n",
    "                   'kernel':['rbf','linear','poly']\n",
    "                  }"
   ]
  },
  {
   "cell_type": "markdown",
   "id": "af8c2b5d-891f-4f6f-9ca8-5e60bb7efcc8",
   "metadata": {},
   "source": [
    "GridSearchCV is a brute force estimator, this means that all possible combinations of hyper-parameters will be used to calculate the best hyper-parameters. In the example below, cross-validation is set to 4, meaning that the model will have 400 interations. This is computing-intensive and in larger models will take a significant amount of time[3].\n",
    "\n",
    "One way to solve to computational time issue is to use RandomizedSearch that controls the number of iterations(n_iter parameter), however this method by design limit the number of iterations on the model, and will influence the result(in a negative way), as it will stop iterating(searching for) the best combination of hyper-parameters after a specified number of iterations.\n",
    "\n",
    "Example below demonstarates the GridSearchCV on a small set of hyper-parameters."
   ]
  },
  {
   "cell_type": "code",
   "execution_count": 14,
   "id": "2365b3b1-e93d-4bae-9bdc-4b974ec62a0c",
   "metadata": {},
   "outputs": [
    {
     "name": "stdout",
     "output_type": "stream",
     "text": [
      "tuned hyperparameters :(best parameters)  {'C': 100, 'gamma': 0.1, 'kernel': 'rbf'}\n",
      "accuracy : 98.98570003325574\n",
      "CPU times: total: 29min 1s\n",
      "Wall time: 29min 10s\n"
     ]
    }
   ],
   "source": [
    "%%time\n",
    "grid = GridSearchCV(svm_malware, param_grid_test, refit = True, verbose = 0 ,cv=4)\n",
    "  \n",
    "#fitting the model for grid search\n",
    "grid.fit(X_train, y_train)\n",
    "\n",
    "print(\"tuned hyperparameters :(best parameters) \",grid.best_params_) \n",
    "\n",
    "print(\"accuracy :\",grid.best_score_*100)"
   ]
  },
  {
   "cell_type": "markdown",
   "id": "096a5ece-a015-497c-b56d-3cc769ca727d",
   "metadata": {},
   "source": [
    "In 2020 Sklearn added to their library, HalvingGridSearch which takes a different approach to the calculation of best hyper-parameters - successive halving. Like GridSearch it uses iterations to determine the best hyper-parameters however, all candidates are only trained on the first iteration(with limited resources) and only the ones with the best score are moved to another(and granted more resources each next iteration). Thus, reducing computational time drastically by eliminating candidates at the initial stage rather than iterating through them even though they produce lower scores.\n",
    "\n",
    "The speed of the process can be influenced by two parameters: min_resources which specifies how much data is being fed to it at the first iteration and factor - by how more data is fed to it in the successive iterations. However, due to this approach, it is possible to set min_resources and factor in such a way that the available resources will run out before all iterations are completed, to avoid that min_resources can be set to \"exhaust\" to automatically assign resources to iterations so that all of them will pass. The factor is set to 3, which is the recommendation of Sklearn(default, most reliable, and compatible). "
   ]
  },
  {
   "cell_type": "code",
   "execution_count": 15,
   "id": "bf31a61d-e49c-4e51-9977-a1d562919bb5",
   "metadata": {},
   "outputs": [
    {
     "name": "stdout",
     "output_type": "stream",
     "text": [
      "tuned hyperparameters :(best parameters)  {'C': 10, 'gamma': 0.1, 'kernel': 'rbf'}\n",
      "accuracy : 99.02606476847045\n",
      "CPU times: total: 11.1 s\n",
      "Wall time: 1min 56s\n"
     ]
    }
   ],
   "source": [
    "%%time\n",
    "halved_test = HalvingGridSearchCV(svm_malware, param_grid_test,n_jobs=-1, \n",
    "                                  min_resources=\"exhaust\", factor=3, cv = 5)\n",
    "\n",
    "halved_test.fit(X_train, y_train)\n",
    "\n",
    "print(\"tuned hyperparameters :(best parameters) \",halved_test.best_params_) \n",
    "\n",
    "print(\"accuracy :\",halved_test.best_score_*100)"
   ]
  },
  {
   "cell_type": "markdown",
   "id": "bb0f6479-be41-42f1-a7b0-9a7670620eeb",
   "metadata": {},
   "source": [
    "After running the test samples, we can see that HalvingGrid search is much faster than brute force method of GridSearch. To reduce computation time this project will use HalvingGridSearch to fine tune the hyper parameters. "
   ]
  },
  {
   "cell_type": "markdown",
   "id": "7dffb26f-689c-4efb-8ec1-aa2279550a86",
   "metadata": {},
   "source": [
    "# HalvingGridSearchCV - hyperparameter tuning for malware detection"
   ]
  },
  {
   "cell_type": "markdown",
   "id": "64365567-d92d-4363-a098-f2b3618a80e4",
   "metadata": {},
   "source": [
    "Parameters grid for malware prediction. A chosen array of numbers represent as wide as possible a hyper-parameter set(computationally).\n",
    "\n",
    "C - is the cost of misclassification of data. \n",
    "High C will produce low bias and high variance - because the cost of misclassification increases.\n",
    "Low C will produce high bias and low variance - as the decision barrier is lowered(misclassification cost is lowered).\n",
    "\n",
    "Gamma(rbf kernel) influences the distance of training of the single point. Meaning low gamma values will produce high bais as the distance(similarity radius) for classification is broadened. High gamma values will result in low bais as the distance of classification is reduced(points on the hyperplane need to be close together to be classified as the same category). This hyper-parameter has to be positive.\n",
    "\n",
    "In order to find the \"sweet spot\" for the malware prediction code below will test a wide array of parameters, spaced as much as possible while retaining reasonable computation time[3]. "
   ]
  },
  {
   "cell_type": "markdown",
   "id": "58215d87-4dbc-4151-a810-9a95b5d851af",
   "metadata": {},
   "source": [
    "# Kernel choice"
   ]
  },
  {
   "cell_type": "markdown",
   "id": "5868b901-86bd-443f-bcef-14533c17a70d",
   "metadata": {},
   "source": [
    "First choosing the kernel as hyper-tuning of parameters will be depended on it."
   ]
  },
  {
   "cell_type": "code",
   "execution_count": 19,
   "id": "7542d1c9-be49-4f46-8de9-9d834519ba54",
   "metadata": {},
   "outputs": [],
   "source": [
    "param_grid_kernel = {'kernel':['linear', 'poly', 'sigmoid','rbf']}"
   ]
  },
  {
   "cell_type": "code",
   "execution_count": 20,
   "id": "81534a6c-57c7-4410-87cc-16a245e6df75",
   "metadata": {},
   "outputs": [
    {
     "name": "stdout",
     "output_type": "stream",
     "text": [
      "tuned kernel :  {'kernel': 'rbf'}\n",
      "accuracy : 98.22012515523332\n",
      "CPU times: total: 5.81 s\n",
      "Wall time: 1min 20s\n"
     ]
    }
   ],
   "source": [
    "%%time\n",
    "halved_kernel = HalvingGridSearchCV(svm_malware, param_grid_kernel,n_jobs=-1, min_resources=\"exhaust\", factor=3, cv = 5)\n",
    "\n",
    "halved_kernel.fit(X_train, y_train)\n",
    "\n",
    "print(\"tuned kernel : \",halved_kernel.best_params_) \n",
    "\n",
    "print(\"accuracy :\",halved_kernel.best_score_*100)"
   ]
  },
  {
   "cell_type": "markdown",
   "id": "54b99ca4-4b19-4b67-aaa9-bf81dce78894",
   "metadata": {},
   "source": [
    "The chosen kernel is rbf, thus all of the following tuning will be set-up for rbf."
   ]
  },
  {
   "cell_type": "markdown",
   "id": "cbb1e781-66d2-4351-a71f-1d0bc31fc7b7",
   "metadata": {},
   "source": [
    "# Hyper-parameters tuning(rbf kernel)"
   ]
  },
  {
   "cell_type": "markdown",
   "id": "7d56d957-1cee-4725-b76a-65f8dcadfc96",
   "metadata": {},
   "source": [
    "Originally planned parameters for grid search, however computation time proved to too significant, moreover at some point system has ran out of memory and crashed."
   ]
  },
  {
   "cell_type": "code",
   "execution_count": 18,
   "id": "16966306-e2f3-4f9f-a309-e5c84680f533",
   "metadata": {},
   "outputs": [],
   "source": [
    "svm_C = [0]\n",
    "for i in np.arange(0.1,1000,0.1):\n",
    "    svm_C.append(i)\n",
    "    \n",
    "svm_gamma = [0]\n",
    "for i in np.arange(0.001,100,0.001):\n",
    "    svm_gamma.append(i)\n",
    "svm_gamma.append('gamma')"
   ]
  },
  {
   "cell_type": "markdown",
   "id": "4be4c30f-c6e9-41b3-945a-6ede6dc7b168",
   "metadata": {},
   "source": [
    "Smaller parameter tuning range  "
   ]
  },
  {
   "cell_type": "code",
   "execution_count": 21,
   "id": "48da05c0-12b4-42e6-9a26-700259fde972",
   "metadata": {},
   "outputs": [],
   "source": [
    "# defining parameter range\n",
    "param_grid_hyper = {'C': [0.001,0.01,0.1,1,10,100,1000], \n",
    "              'gamma': [0.001, 0.01,0.1,1,10,100], 'kernel':['rbf']}"
   ]
  },
  {
   "cell_type": "code",
   "execution_count": 22,
   "id": "ab8ef17a-2bac-4a9a-a429-28edf4d8405c",
   "metadata": {},
   "outputs": [
    {
     "name": "stdout",
     "output_type": "stream",
     "text": [
      "tuned kernel :(best parameters)  {'C': 10, 'gamma': 0.1, 'kernel': 'rbf'}\n",
      "accuracy : 99.02606476847045\n",
      "CPU times: total: 11.1 s\n",
      "Wall time: 2min 59s\n"
     ]
    }
   ],
   "source": [
    "%%time\n",
    "halved_hyper = HalvingGridSearchCV(svm_malware, param_grid_hyper,n_jobs=-1, min_resources=\"exhaust\", factor=3, cv = 5)\n",
    "\n",
    "halved_hyper.fit(X_train, y_train)\n",
    "\n",
    "print(\"tuned kernel :(best parameters) \",halved_hyper.best_params_) \n",
    "\n",
    "print(\"accuracy :\",halved_hyper.best_score_*100)"
   ]
  },
  {
   "cell_type": "markdown",
   "id": "0e0e0a0d-5fa7-4781-8094-a18f27743314",
   "metadata": {},
   "source": [
    "# Model prediction with tuned hyper-parameters"
   ]
  },
  {
   "cell_type": "code",
   "execution_count": 23,
   "id": "134d04c6-12e6-46a1-a8ba-de6f5e681c9a",
   "metadata": {},
   "outputs": [
    {
     "name": "stdout",
     "output_type": "stream",
     "text": [
      "Accuracy with tuned hyperparamters is : 98.84%\n"
     ]
    }
   ],
   "source": [
    "svm_malware_tuned = SVC(C = 10, kernel = 'rbf',gamma = 0.1)\n",
    "svm_malware_tuned.fit(X_train, y_train)\n",
    "pred_tuned = svm_malware_tuned.predict(X_test)\n",
    "acc_tuned = metrics.accuracy_score(pred_tuned, y_test)*100\n",
    "print(\"Accuracy with tuned hyperparamters is : {:.2f}%\".format(acc_tuned))"
   ]
  },
  {
   "cell_type": "markdown",
   "id": "db7de294-f74e-4d7f-851b-05550a70413d",
   "metadata": {},
   "source": [
    "The accuracy of prediction has increased by 0,73% after tuning the hyper-parametrs. It might be due to the small sample size, as only 2 sets of features are being taken into account. Research[2] presented by Daniel Arp, Michael Spreitzenbarth , Malte Hubner, Hugo Gascon, and Konrad Rieck, suggests that malware research is best done with large sample sizes as in thier reaserch they used over 131,000 samples which were divivded into 7 feature sets."
   ]
  },
  {
   "cell_type": "markdown",
   "id": "41e4d60d-9b6d-4127-aeaf-1e0a98f5d694",
   "metadata": {},
   "source": [
    "# Cross validation"
   ]
  },
  {
   "cell_type": "markdown",
   "id": "c6c952da-4991-4e6b-8cfa-f58b0ae1df7e",
   "metadata": {},
   "source": [
    "The possibility of overfitting the model is a concern while training the model on training data. Therefore to avoid overfitting I'm applying the 10-fold cross-validation. "
   ]
  },
  {
   "cell_type": "code",
   "execution_count": 22,
   "id": "6b782fe0-84ac-4455-aa04-6796f51deee0",
   "metadata": {},
   "outputs": [
    {
     "name": "stdout",
     "output_type": "stream",
     "text": [
      "Accuracy scores: [0.9900266  0.98803191 0.99135638 0.99268617 0.99135638 0.99135638\n",
      " 0.99201597 0.99001996 0.99001996 0.99001996]\n",
      "Avg accuracy: 0.9906889678090627\n"
     ]
    }
   ],
   "source": [
    "cv = KFold(n_splits=10, random_state=1, shuffle=True)\n",
    "\n",
    "#use k-fold CV to evaluate model\n",
    "scores = cross_val_score(svm_malware_tuned, X, y, cv=cv, n_jobs=-1)\n",
    "\n",
    "print(\"Accuracy scores: \" + np.array_str(scores))\n",
    "print(\"Avg accuracy: {}\".format(scores.mean()))"
   ]
  },
  {
   "cell_type": "markdown",
   "id": "ac842b0a-b317-42ac-b3b2-c35537517f41",
   "metadata": {},
   "source": [
    "Accuracy scores closely match the results after the hyper-parameter tuning. Meaning that the model is most likely not overfitted."
   ]
  },
  {
   "cell_type": "markdown",
   "id": "3b3cbaa8-5a4c-49c5-9d31-0f7f8a2848c0",
   "metadata": {
    "tags": []
   },
   "source": [
    "# Evaluation"
   ]
  },
  {
   "cell_type": "code",
   "execution_count": 23,
   "id": "d179b25f-3dd2-46b7-9433-bb78838a9404",
   "metadata": {},
   "outputs": [
    {
     "name": "stdout",
     "output_type": "stream",
     "text": [
      "              precision    recall  f1-score   support\n",
      "\n",
      "           0       0.99      0.99      0.99      1863\n",
      "           1       0.99      0.98      0.99      1145\n",
      "\n",
      "    accuracy                           0.99      3008\n",
      "   macro avg       0.99      0.99      0.99      3008\n",
      "weighted avg       0.99      0.99      0.99      3008\n",
      "\n"
     ]
    }
   ],
   "source": [
    "print(metrics.classification_report(y_test, pred_tuned))"
   ]
  },
  {
   "cell_type": "markdown",
   "id": "7f0b442c-7189-4351-933b-41c811ed7ef3",
   "metadata": {},
   "source": [
    "The classification report contains 2 classes: 1 and 0. As mentioned before 1 is malware and 0 is benign. Both of them exhibit high precision and recall. Meaning that model correctly indentifies that given sample is a malware, moreover class 1, has slighlty lower recall(0,01%), which means that model might sometimes identify benign application as malware. Considering potential dangers that come with malware, high precision is more important than recall. The possibily blocking benign application is preferable to not-blocking actual malware."
   ]
  },
  {
   "cell_type": "markdown",
   "id": "ec2212b5-0082-4c79-b51d-d57fe780a773",
   "metadata": {},
   "source": [
    "# Accuracy comperasion between training and test datasets\n"
   ]
  },
  {
   "cell_type": "code",
   "execution_count": 24,
   "id": "0dd7224d-0e9c-4a98-a157-2153743c0039",
   "metadata": {},
   "outputs": [
    {
     "name": "stdout",
     "output_type": "stream",
     "text": [
      "Training Accuracy: 99.90023279015631%\n",
      "Model Accuracy: 98.86968085106383%\n"
     ]
    }
   ],
   "source": [
    "print(f'Training Accuracy: {svm_malware_tuned.score(X_train,y_train)*100}%')\n",
    "print(f'Model Accuracy: {svm_malware_tuned.score(X_test,y_test)*100}%')"
   ]
  },
  {
   "cell_type": "markdown",
   "id": "24f2d744-78d9-46a4-b50b-4d81410066e0",
   "metadata": {},
   "source": [
    "High training accuracy can be the result of duplicated rows, as dataset is not imbalanced."
   ]
  },
  {
   "cell_type": "markdown",
   "id": "c51a85c0-adfc-4e5f-a996-4b507995c340",
   "metadata": {},
   "source": [
    "# Dataset copy"
   ]
  },
  {
   "cell_type": "code",
   "execution_count": 55,
   "id": "322b877a-abfd-499f-979c-742bc3188344",
   "metadata": {},
   "outputs": [],
   "source": [
    "df_malware_duplicates=df_malware.copy(deep = True)"
   ]
  },
  {
   "cell_type": "markdown",
   "id": "52eb149a-48dd-477b-99a9-a43657a2615e",
   "metadata": {},
   "source": [
    "# Checking for duplicates"
   ]
  },
  {
   "cell_type": "code",
   "execution_count": 56,
   "id": "c8b9df1c-e204-4977-912c-d79f5f687c9f",
   "metadata": {},
   "outputs": [
    {
     "data": {
      "text/plain": [
       "7775"
      ]
     },
     "execution_count": 56,
     "metadata": {},
     "output_type": "execute_result"
    }
   ],
   "source": [
    "df_malware_duplicates.duplicated(subset= None, keep='first').sum()"
   ]
  },
  {
   "cell_type": "markdown",
   "id": "f35e8163-54ba-432f-99c3-6ae5195240d6",
   "metadata": {},
   "source": [
    "There are 7775 duplicate rows in this dataset."
   ]
  },
  {
   "cell_type": "markdown",
   "id": "89cbcef9-1ab1-4d69-bd43-f28d5dc32624",
   "metadata": {},
   "source": [
    "# Removing the duplicates"
   ]
  },
  {
   "cell_type": "code",
   "execution_count": 57,
   "id": "19014fb7-e8c5-442d-bbe6-136ac0f0ab49",
   "metadata": {},
   "outputs": [
    {
     "name": "stdout",
     "output_type": "stream",
     "text": [
      "<class 'pandas.core.frame.DataFrame'>\n",
      "Int64Index: 7261 entries, 0 to 15033\n",
      "Columns: 216 entries, transact to CLASS\n",
      "dtypes: int64(215), object(1)\n",
      "memory usage: 12.0+ MB\n"
     ]
    }
   ],
   "source": [
    "df_malware_duplicates.drop_duplicates(subset=None, keep='first', inplace=True)\n",
    "df_malware_duplicates.info()"
   ]
  },
  {
   "cell_type": "markdown",
   "id": "b16f9d31-8d7e-4e52-9ab0-737bfc8f7bd1",
   "metadata": {},
   "source": [
    "Choosing target variable from dataset with removed duplicates"
   ]
  },
  {
   "cell_type": "code",
   "execution_count": 58,
   "id": "5419e9a4-5a7f-4e38-b345-779010842e81",
   "metadata": {},
   "outputs": [],
   "source": [
    "y_dup = df_malware_duplicates.iloc[:,-1] #target variable\n",
    "X_dup = df_malware_duplicates.drop(['CLASS'], axis = 1) #dataset\n",
    "\n",
    "#removal of \"?\" sign - throws error without it\n",
    "y_dup=y.apply(pd.to_numeric, errors = 'coerce')\n",
    "X_dup=X.apply(pd.to_numeric, errors = 'coerce')\n",
    "\n",
    "X_dup.fillna(0, inplace=True)\n",
    "y_dup.fillna(0, inplace=True)"
   ]
  },
  {
   "cell_type": "markdown",
   "id": "8dc49596-b8f9-43b4-a3e1-a926f3f628fe",
   "metadata": {},
   "source": [
    "Splitting the dataset into train and test"
   ]
  },
  {
   "cell_type": "code",
   "execution_count": 63,
   "id": "7b44f480-9428-4b59-8d03-4543940046d1",
   "metadata": {},
   "outputs": [],
   "source": [
    "X_train_dup, X_test_dup, y_train_dup, y_test_dup = train_test_split(X_dup, y_dup, test_size=0.2, random_state=42)"
   ]
  },
  {
   "cell_type": "markdown",
   "id": "90b7c3a8-49b5-4900-8738-616df75901a4",
   "metadata": {},
   "source": [
    "SVM prediction with tuned hyperparamets and removed duplicates"
   ]
  },
  {
   "cell_type": "code",
   "execution_count": 60,
   "id": "be358140-5ab0-4771-8722-04503eac339e",
   "metadata": {},
   "outputs": [
    {
     "name": "stdout",
     "output_type": "stream",
     "text": [
      "Accuracy with tuned hyperparamters and removed duplicates is : 98.84%\n"
     ]
    }
   ],
   "source": [
    "svm_malware_tuned = SVC(C = 10, kernel = 'rbf',gamma = 0.1)\n",
    "svm_malware_tuned.fit(X_train_dup, y_train_dup)\n",
    "pred_tuned = svm_malware_tuned.predict(X_test_dup)\n",
    "acc_tuned = metrics.accuracy_score(pred_tuned, y_test_dup)*100\n",
    "print(\"Accuracy with tuned hyperparamters and removed duplicates is : {:.2f}%\".format(acc_tuned))"
   ]
  },
  {
   "cell_type": "markdown",
   "id": "c7387828-7d83-4edc-9642-d68fcaac798d",
   "metadata": {},
   "source": [
    "The removal of duplicates has no influence on accuracy, which means that in previous iterations model was fitted correctly."
   ]
  },
  {
   "cell_type": "markdown",
   "id": "357f91d2-2a5f-460b-a5a9-4f5116b921a9",
   "metadata": {},
   "source": [
    "# Feature selection - manual"
   ]
  },
  {
   "cell_type": "code",
   "execution_count": 18,
   "id": "5a0288d4-1b21-4ec4-8512-b61f34ccc33f",
   "metadata": {},
   "outputs": [],
   "source": [
    "feature_selection = {}"
   ]
  },
  {
   "cell_type": "code",
   "execution_count": 19,
   "id": "a02e4827-c9b6-4094-92c1-6c480bae40f5",
   "metadata": {},
   "outputs": [
    {
     "name": "stdout",
     "output_type": "stream",
     "text": [
      "CPU times: total: 41min 45s\n",
      "Wall time: 42min 9s\n"
     ]
    }
   ],
   "source": [
    "%%time\n",
    "feature_selection.clear()\n",
    "for x in range(215):\n",
    "    df = X.copy()\n",
    "    column_name = df.columns[x]\n",
    "    df.drop(df.columns[x], axis=1, inplace=True)\n",
    "    df_train, df_test, y_train, y_test = train_test_split(df,y,test_size=0.2)\n",
    "    svm_malware_tuned.fit(df_train,y_train)\n",
    "    pred = svm_malware_tuned.predict(df_test)\n",
    "    acc = metrics.accuracy_score(pred, y_test)\n",
    "    feature_selection[column_name] = (100-round(acc,2))"
   ]
  },
  {
   "cell_type": "markdown",
   "id": "22fba659-5409-47d8-9312-54b5c50d56ac",
   "metadata": {},
   "source": [
    "The loop above test absence of each feature on accuracy results. Each removed feature is juxtaposed with accuracy penalty after it's removal."
   ]
  },
  {
   "cell_type": "markdown",
   "id": "20a4e80b-a46c-45fa-82cb-fe1de81baf28",
   "metadata": {},
   "source": [
    "#### Feature sorting and comperasion with KBest and Lasso"
   ]
  },
  {
   "cell_type": "code",
   "execution_count": 39,
   "id": "5aebfa20-a8b1-40e8-a807-e01f94d3f75f",
   "metadata": {},
   "outputs": [
    {
     "name": "stdout",
     "output_type": "stream",
     "text": [
      "transact:99.01\n",
      "onServiceConnected:99.01\n",
      "bindService:99.01\n",
      "attachInterface:99.01\n",
      "ServiceConnection:99.01\n",
      "android.os.Binder:99.01\n",
      "SEND_SMS:99.01\n",
      "Ljava.lang.Class.getCanonicalName:99.01\n",
      "Ljava.lang.Class.getMethods:99.01\n",
      "Ljava.lang.Class.cast:99.01\n",
      "Ljava.net.URLDecoder:99.01\n",
      "android.content.pm.Signature:99.01\n",
      "android.telephony.SmsManager:99.01\n",
      "READ_PHONE_STATE:99.01\n",
      "getBinder:99.01\n",
      "ClassLoader:99.01\n",
      "Landroid.content.Context.registerReceiver:99.01\n",
      "Ljava.lang.Class.getField:99.01\n",
      "Landroid.content.Context.unregisterReceiver:99.01\n",
      "GET_ACCOUNTS:99.01\n"
     ]
    }
   ],
   "source": [
    "feature_selection_sorted=dict(sorted(feature_selection.items(),key= lambda x:x[1]))\n",
    "for x in list(list(feature_selection_sorted))[0:20]:\n",
    "    print (x + \":\" + str(feature_selection_sorted[x]))"
   ]
  },
  {
   "cell_type": "markdown",
   "id": "f619213b-5e7d-4602-8186-9320037372da",
   "metadata": {},
   "source": [
    "Listed values(first 20 out of all features) all have 99.01% accuracy(in fact all features exhibit the same accuracy), meaning that removal of any feature does not influence prediction after hyper-parameter tuning. "
   ]
  },
  {
   "cell_type": "markdown",
   "id": "936396d8-c649-4c2e-956b-8dda09be0368",
   "metadata": {},
   "source": [
    "# Feature selection using KBest"
   ]
  },
  {
   "cell_type": "code",
   "execution_count": 215,
   "id": "edea6179-7596-476a-96a5-c8af72f31eb9",
   "metadata": {},
   "outputs": [
    {
     "name": "stdout",
     "output_type": "stream",
     "text": [
      "(15036, 32)\n"
     ]
    }
   ],
   "source": [
    "kBest = SelectKBest(score_func=chi2, k=32)\n",
    "z = kBest.fit(X_dup,y_dup)\n",
    "selectedFeatures = kBest.transform(X_dup)\n",
    "mask = kBest.get_support(1)\n",
    "Selected_Features=X_dup[X_dup.columns[mask]]\n",
    "print(selectedFeatures.shape)"
   ]
  },
  {
   "cell_type": "markdown",
   "id": "07bd5f29-43fe-4347-8b8b-1de86fa9640a",
   "metadata": {},
   "source": [
    "#### Display of selected features"
   ]
  },
  {
   "cell_type": "code",
   "execution_count": 216,
   "id": "125c7290-9371-4bfe-ad5e-17d22eb1e8f5",
   "metadata": {},
   "outputs": [
    {
     "name": "stdout",
     "output_type": "stream",
     "text": [
      "transact\n",
      "onServiceConnected\n",
      "bindService\n",
      "attachInterface\n",
      "ServiceConnection\n",
      "android.os.Binder\n",
      "SEND_SMS\n",
      "Ljava.lang.Class.getCanonicalName\n",
      "Ljava.lang.Class.getMethods\n",
      "Ljava.lang.Class.cast\n",
      "Ljava.net.URLDecoder\n",
      "android.content.pm.Signature\n",
      "android.telephony.SmsManager\n",
      "READ_PHONE_STATE\n",
      "getBinder\n",
      "ClassLoader\n",
      "Landroid.content.Context.registerReceiver\n",
      "Ljava.lang.Class.getField\n",
      "Landroid.content.Context.unregisterReceiver\n",
      "GET_ACCOUNTS\n",
      "RECEIVE_SMS\n",
      "Ljava.lang.Class.getDeclaredField\n",
      "READ_SMS\n",
      "getCallingUid\n",
      "Ljavax.crypto.spec.SecretKeySpec\n",
      "android.intent.action.BOOT_COMPLETED\n",
      "USE_CREDENTIALS\n",
      "MANAGE_ACCOUNTS\n",
      "TelephonyManager.getLine1Number\n",
      "DexClassLoader\n",
      "WRITE_SMS\n",
      "android.telephony.gsm.SmsManager\n"
     ]
    }
   ],
   "source": [
    "for col_name in Selected_Features.columns: \n",
    "    print(col_name)"
   ]
  },
  {
   "cell_type": "markdown",
   "id": "2aeadbbc-7b16-484c-8e64-86b135026305",
   "metadata": {},
   "source": [
    "#### Prediction on kBest features"
   ]
  },
  {
   "cell_type": "code",
   "execution_count": 217,
   "id": "c14d7a9e-c276-407c-b353-f5225fcbda5f",
   "metadata": {},
   "outputs": [],
   "source": [
    "# splitting dataset\n",
    "X_train_kBest, X_test_kBest, y_train_kBest, y_test_kBest = train_test_split(selectedFeatures, y_dup, test_size=0.2, random_state=42) "
   ]
  },
  {
   "cell_type": "code",
   "execution_count": 218,
   "id": "b3901e88-5a4f-437d-ac94-4eb2e143699c",
   "metadata": {},
   "outputs": [
    {
     "name": "stdout",
     "output_type": "stream",
     "text": [
      "Accuracy after kBest selected features:95.0465425531915%\n"
     ]
    }
   ],
   "source": [
    "svm_malware_tuned = SVC(C = 10, kernel = 'rbf',gamma = 0.1)\n",
    "svm_malware_tuned.fit(X_train_kBest, y_train_kBest)\n",
    "pred_tuned = svm_malware_tuned.predict(X_test_kBest)\n",
    "acc_tuned = metrics.accuracy_score(pred_tuned, y_test_kBest)*100\n",
    "print(\"Accuracy after kBest selected features:\" + str(acc_tuned)+ \"%\")"
   ]
  },
  {
   "cell_type": "markdown",
   "id": "e5ff8557-a305-44db-8723-7e44d6fca033",
   "metadata": {},
   "source": [
    "Feature selection with the kBest algorithm reduces the accuracy of the selected model, thus reinforcing previous findings that all features contribute positively to prediction."
   ]
  },
  {
   "cell_type": "markdown",
   "id": "9b572f89-58cf-45f6-8af6-5f90a1f7f266",
   "metadata": {},
   "source": [
    "# Feature selection using Lasso"
   ]
  },
  {
   "cell_type": "markdown",
   "id": "5fc310cb-5de2-4708-bc42-fd99fec83b8f",
   "metadata": {},
   "source": [
    "Lasso is a regression algorithm that stands for Least Absolute Shrinkage and Selection Operator. It is a statistical formula for the regularization of models and can be used to select features. Shrinkage is where data value is shrunk towards the central point(mean). The regression model uses L1 Regularization, it adds a penalty that is equal to the absolute value of the magnitude of the coefficient. If two features are correlated their simultaneous presence will increase the cost of the function, and Lasso regression will shrink the values of less important features to 0, to select the best ones."
   ]
  },
  {
   "cell_type": "markdown",
   "id": "04399068-dc8a-4b82-ada2-7e01ec1aeb26",
   "metadata": {},
   "source": [
    "#### Lasso model"
   ]
  },
  {
   "cell_type": "code",
   "execution_count": 100,
   "id": "425e0dae-87cb-4737-b6fd-d276ac6df8ab",
   "metadata": {},
   "outputs": [],
   "source": [
    "lasso_model = Lasso()"
   ]
  },
  {
   "cell_type": "markdown",
   "id": "897b7946-4e27-484e-b959-1371f0e92797",
   "metadata": {},
   "source": [
    "Before choosing the feature, it is advisable to tune the hyper-parameters of the Lasso algorithm. In this case, it is the α value, which is the constant multiplier in L1 Regularization."
   ]
  },
  {
   "cell_type": "markdown",
   "id": "42b6174f-3ad3-4221-8149-88672446c5d1",
   "metadata": {},
   "source": [
    "#### Defining parameter grid"
   ]
  },
  {
   "cell_type": "code",
   "execution_count": 129,
   "id": "2ea63828-9a05-4a54-911e-e268e1411926",
   "metadata": {},
   "outputs": [],
   "source": [
    "parameter_grid_lasso = {'alpha': np.arange(0.1,10,0.1)}"
   ]
  },
  {
   "cell_type": "markdown",
   "id": "91a97516-c1a3-4a1a-80bb-16fb60f7a02a",
   "metadata": {},
   "source": [
    "#### Halving grid search for best parameter"
   ]
  },
  {
   "cell_type": "code",
   "execution_count": 161,
   "id": "36eaa19b-f065-49e2-86ba-d193b50d5a1a",
   "metadata": {},
   "outputs": [
    {
     "name": "stdout",
     "output_type": "stream",
     "text": [
      "Best parameter value is: {'alpha': 0.1}\n"
     ]
    }
   ],
   "source": [
    "lasso_hyper = HalvingGridSearchCV(lasso_model,parameter_grid_lasso, min_resources=\"exhaust\",cv = 5, scoring=\"neg_mean_squared_error\")\n",
    "search_results = lasso_hyper.fit(X_dup,y_dup)\n",
    "print('Best parameter value is: '+ str(search_results.best_params_))"
   ]
  },
  {
   "cell_type": "markdown",
   "id": "1a6a49e2-3d05-4d39-a170-ead7d4d7c943",
   "metadata": {},
   "source": [
    "#### Logistic Regression feature selection"
   ]
  },
  {
   "cell_type": "code",
   "execution_count": 219,
   "id": "3f6e115e-d67c-4658-b740-472529f799fc",
   "metadata": {},
   "outputs": [
    {
     "data": {
      "text/html": [
       "\n",
       "    <style>\n",
       "    table.eli5-weights tr:hover {\n",
       "        filter: brightness(85%);\n",
       "    }\n",
       "</style>\n",
       "\n",
       "\n",
       "\n",
       "    \n",
       "\n",
       "    \n",
       "\n",
       "    \n",
       "\n",
       "    \n",
       "\n",
       "    \n",
       "\n",
       "    \n",
       "\n",
       "\n",
       "    \n",
       "\n",
       "    \n",
       "\n",
       "    \n",
       "\n",
       "    \n",
       "        \n",
       "\n",
       "    \n",
       "\n",
       "        \n",
       "            \n",
       "                \n",
       "                \n",
       "    \n",
       "        <p style=\"margin-bottom: 0.5em; margin-top: 0em\">\n",
       "            <b>\n",
       "    \n",
       "        y=1\n",
       "    \n",
       "</b>\n",
       "\n",
       "top features\n",
       "        </p>\n",
       "    \n",
       "    <table class=\"eli5-weights\"\n",
       "           style=\"border-collapse: collapse; border: none; margin-top: 0em; table-layout: auto; margin-bottom: 2em;\">\n",
       "        <thead>\n",
       "        <tr style=\"border: none;\">\n",
       "            \n",
       "                <th style=\"padding: 0 1em 0 0.5em; text-align: right; border: none;\" title=\"Feature weights. Note that weights do not account for feature value scales, so if feature values have different scales, features with highest weights might not be the most important.\">\n",
       "                    Weight<sup>?</sup>\n",
       "                </th>\n",
       "            \n",
       "            <th style=\"padding: 0 0.5em 0 0.5em; text-align: left; border: none;\">Feature</th>\n",
       "            \n",
       "        </tr>\n",
       "        </thead>\n",
       "        <tbody>\n",
       "        \n",
       "            <tr style=\"background-color: hsl(120, 100.00%, 80.00%); border: none;\">\n",
       "    <td style=\"padding: 0 1em 0 0.5em; text-align: right; border: none;\">\n",
       "        +2.798\n",
       "    </td>\n",
       "    <td style=\"padding: 0 0.5em 0 0.5em; text-align: left; border: none;\">\n",
       "        SEND_SMS\n",
       "    </td>\n",
       "    \n",
       "</tr>\n",
       "        \n",
       "            <tr style=\"background-color: hsl(120, 100.00%, 80.01%); border: none;\">\n",
       "    <td style=\"padding: 0 1em 0 0.5em; text-align: right; border: none;\">\n",
       "        +2.797\n",
       "    </td>\n",
       "    <td style=\"padding: 0 0.5em 0 0.5em; text-align: left; border: none;\">\n",
       "        android.telephony.gsm.SmsManager\n",
       "    </td>\n",
       "    \n",
       "</tr>\n",
       "        \n",
       "            <tr style=\"background-color: hsl(120, 100.00%, 86.38%); border: none;\">\n",
       "    <td style=\"padding: 0 1em 0 0.5em; text-align: right; border: none;\">\n",
       "        +1.616\n",
       "    </td>\n",
       "    <td style=\"padding: 0 0.5em 0 0.5em; text-align: left; border: none;\">\n",
       "        INTERNET\n",
       "    </td>\n",
       "    \n",
       "</tr>\n",
       "        \n",
       "            <tr style=\"background-color: hsl(120, 100.00%, 87.46%); border: none;\">\n",
       "    <td style=\"padding: 0 1em 0 0.5em; text-align: right; border: none;\">\n",
       "        +1.436\n",
       "    </td>\n",
       "    <td style=\"padding: 0 0.5em 0 0.5em; text-align: left; border: none;\">\n",
       "        android.telephony.SmsManager\n",
       "    </td>\n",
       "    \n",
       "</tr>\n",
       "        \n",
       "            <tr style=\"background-color: hsl(120, 100.00%, 88.50%); border: none;\">\n",
       "    <td style=\"padding: 0 1em 0 0.5em; text-align: right; border: none;\">\n",
       "        +1.270\n",
       "    </td>\n",
       "    <td style=\"padding: 0 0.5em 0 0.5em; text-align: left; border: none;\">\n",
       "        chmod\n",
       "    </td>\n",
       "    \n",
       "</tr>\n",
       "        \n",
       "            <tr style=\"background-color: hsl(120, 100.00%, 88.90%); border: none;\">\n",
       "    <td style=\"padding: 0 1em 0 0.5em; text-align: right; border: none;\">\n",
       "        +1.207\n",
       "    </td>\n",
       "    <td style=\"padding: 0 0.5em 0 0.5em; text-align: left; border: none;\">\n",
       "        READ_HISTORY_BOOKMARKS\n",
       "    </td>\n",
       "    \n",
       "</tr>\n",
       "        \n",
       "            <tr style=\"background-color: hsl(120, 100.00%, 89.36%); border: none;\">\n",
       "    <td style=\"padding: 0 1em 0 0.5em; text-align: right; border: none;\">\n",
       "        +1.135\n",
       "    </td>\n",
       "    <td style=\"padding: 0 0.5em 0 0.5em; text-align: left; border: none;\">\n",
       "        TelephonyManager.getDeviceId\n",
       "    </td>\n",
       "    \n",
       "</tr>\n",
       "        \n",
       "            <tr style=\"background-color: hsl(120, 100.00%, 89.51%); border: none;\">\n",
       "    <td style=\"padding: 0 1em 0 0.5em; text-align: right; border: none;\">\n",
       "        +1.113\n",
       "    </td>\n",
       "    <td style=\"padding: 0 0.5em 0 0.5em; text-align: left; border: none;\">\n",
       "        TelephonyManager.getSubscriberId\n",
       "    </td>\n",
       "    \n",
       "</tr>\n",
       "        \n",
       "            <tr style=\"background-color: hsl(120, 100.00%, 89.62%); border: none;\">\n",
       "    <td style=\"padding: 0 1em 0 0.5em; text-align: right; border: none;\">\n",
       "        +1.096\n",
       "    </td>\n",
       "    <td style=\"padding: 0 0.5em 0 0.5em; text-align: left; border: none;\">\n",
       "        Ljava.lang.Class.getResource\n",
       "    </td>\n",
       "    \n",
       "</tr>\n",
       "        \n",
       "            <tr style=\"background-color: hsl(120, 100.00%, 90.72%); border: none;\">\n",
       "    <td style=\"padding: 0 1em 0 0.5em; text-align: right; border: none;\">\n",
       "        +0.935\n",
       "    </td>\n",
       "    <td style=\"padding: 0 0.5em 0 0.5em; text-align: left; border: none;\">\n",
       "        Runtime.exec\n",
       "    </td>\n",
       "    \n",
       "</tr>\n",
       "        \n",
       "            <tr style=\"background-color: hsl(120, 100.00%, 91.46%); border: none;\">\n",
       "    <td style=\"padding: 0 1em 0 0.5em; text-align: right; border: none;\">\n",
       "        +0.830\n",
       "    </td>\n",
       "    <td style=\"padding: 0 0.5em 0 0.5em; text-align: left; border: none;\">\n",
       "        READ_PHONE_STATE\n",
       "    </td>\n",
       "    \n",
       "</tr>\n",
       "        \n",
       "            <tr style=\"background-color: hsl(120, 100.00%, 91.70%); border: none;\">\n",
       "    <td style=\"padding: 0 1em 0 0.5em; text-align: right; border: none;\">\n",
       "        +0.797\n",
       "    </td>\n",
       "    <td style=\"padding: 0 0.5em 0 0.5em; text-align: left; border: none;\">\n",
       "        ACCESS_LOCATION_EXTRA_COMMANDS\n",
       "    </td>\n",
       "    \n",
       "</tr>\n",
       "        \n",
       "            <tr style=\"background-color: hsl(120, 100.00%, 92.15%); border: none;\">\n",
       "    <td style=\"padding: 0 1em 0 0.5em; text-align: right; border: none;\">\n",
       "        +0.736\n",
       "    </td>\n",
       "    <td style=\"padding: 0 0.5em 0 0.5em; text-align: left; border: none;\">\n",
       "        TelephonyManager.getLine1Number\n",
       "    </td>\n",
       "    \n",
       "</tr>\n",
       "        \n",
       "            <tr style=\"background-color: hsl(120, 100.00%, 92.30%); border: none;\">\n",
       "    <td style=\"padding: 0 1em 0 0.5em; text-align: right; border: none;\">\n",
       "        +0.715\n",
       "    </td>\n",
       "    <td style=\"padding: 0 0.5em 0 0.5em; text-align: left; border: none;\">\n",
       "        android.intent.action.BOOT_COMPLETED\n",
       "    </td>\n",
       "    \n",
       "</tr>\n",
       "        \n",
       "            <tr style=\"background-color: hsl(120, 100.00%, 92.82%); border: none;\">\n",
       "    <td style=\"padding: 0 1em 0 0.5em; text-align: right; border: none;\">\n",
       "        +0.647\n",
       "    </td>\n",
       "    <td style=\"padding: 0 0.5em 0 0.5em; text-align: left; border: none;\">\n",
       "        findClass\n",
       "    </td>\n",
       "    \n",
       "</tr>\n",
       "        \n",
       "            <tr style=\"background-color: hsl(120, 100.00%, 92.91%); border: none;\">\n",
       "    <td style=\"padding: 0 1em 0 0.5em; text-align: right; border: none;\">\n",
       "        +0.636\n",
       "    </td>\n",
       "    <td style=\"padding: 0 0.5em 0 0.5em; text-align: left; border: none;\">\n",
       "        onBind\n",
       "    </td>\n",
       "    \n",
       "</tr>\n",
       "        \n",
       "            <tr style=\"background-color: hsl(120, 100.00%, 93.11%); border: none;\">\n",
       "    <td style=\"padding: 0 1em 0 0.5em; text-align: right; border: none;\">\n",
       "        +0.610\n",
       "    </td>\n",
       "    <td style=\"padding: 0 0.5em 0 0.5em; text-align: left; border: none;\">\n",
       "        HttpUriRequest\n",
       "    </td>\n",
       "    \n",
       "</tr>\n",
       "        \n",
       "            <tr style=\"background-color: hsl(120, 100.00%, 93.63%); border: none;\">\n",
       "    <td style=\"padding: 0 1em 0 0.5em; text-align: right; border: none;\">\n",
       "        +0.546\n",
       "    </td>\n",
       "    <td style=\"padding: 0 0.5em 0 0.5em; text-align: left; border: none;\">\n",
       "        createSubprocess\n",
       "    </td>\n",
       "    \n",
       "</tr>\n",
       "        \n",
       "            <tr style=\"background-color: hsl(120, 100.00%, 93.98%); border: none;\">\n",
       "    <td style=\"padding: 0 1em 0 0.5em; text-align: right; border: none;\">\n",
       "        +0.503\n",
       "    </td>\n",
       "    <td style=\"padding: 0 0.5em 0 0.5em; text-align: left; border: none;\">\n",
       "        READ_SMS\n",
       "    </td>\n",
       "    \n",
       "</tr>\n",
       "        \n",
       "            <tr style=\"background-color: hsl(120, 100.00%, 94.09%); border: none;\">\n",
       "    <td style=\"padding: 0 1em 0 0.5em; text-align: right; border: none;\">\n",
       "        +0.490\n",
       "    </td>\n",
       "    <td style=\"padding: 0 0.5em 0 0.5em; text-align: left; border: none;\">\n",
       "        /system/bin\n",
       "    </td>\n",
       "    \n",
       "</tr>\n",
       "        \n",
       "            <tr style=\"background-color: hsl(120, 100.00%, 94.29%); border: none;\">\n",
       "    <td style=\"padding: 0 1em 0 0.5em; text-align: right; border: none;\">\n",
       "        +0.467\n",
       "    </td>\n",
       "    <td style=\"padding: 0 0.5em 0 0.5em; text-align: left; border: none;\">\n",
       "        remount\n",
       "    </td>\n",
       "    \n",
       "</tr>\n",
       "        \n",
       "            <tr style=\"background-color: hsl(120, 100.00%, 95.33%); border: none;\">\n",
       "    <td style=\"padding: 0 1em 0 0.5em; text-align: right; border: none;\">\n",
       "        +0.351\n",
       "    </td>\n",
       "    <td style=\"padding: 0 0.5em 0 0.5em; text-align: left; border: none;\">\n",
       "        WRITE_HISTORY_BOOKMARKS\n",
       "    </td>\n",
       "    \n",
       "</tr>\n",
       "        \n",
       "            <tr style=\"background-color: hsl(120, 100.00%, 95.43%); border: none;\">\n",
       "    <td style=\"padding: 0 1em 0 0.5em; text-align: right; border: none;\">\n",
       "        +0.339\n",
       "    </td>\n",
       "    <td style=\"padding: 0 0.5em 0 0.5em; text-align: left; border: none;\">\n",
       "        PackageInstaller\n",
       "    </td>\n",
       "    \n",
       "</tr>\n",
       "        \n",
       "            <tr style=\"background-color: hsl(120, 100.00%, 95.56%); border: none;\">\n",
       "    <td style=\"padding: 0 1em 0 0.5em; text-align: right; border: none;\">\n",
       "        +0.325\n",
       "    </td>\n",
       "    <td style=\"padding: 0 0.5em 0 0.5em; text-align: left; border: none;\">\n",
       "        ACCESS_COARSE_LOCATION\n",
       "    </td>\n",
       "    \n",
       "</tr>\n",
       "        \n",
       "            <tr style=\"background-color: hsl(120, 100.00%, 95.72%); border: none;\">\n",
       "    <td style=\"padding: 0 1em 0 0.5em; text-align: right; border: none;\">\n",
       "        +0.309\n",
       "    </td>\n",
       "    <td style=\"padding: 0 0.5em 0 0.5em; text-align: left; border: none;\">\n",
       "        Ljava.lang.Class.getDeclaredField\n",
       "    </td>\n",
       "    \n",
       "</tr>\n",
       "        \n",
       "            <tr style=\"background-color: hsl(120, 100.00%, 95.79%); border: none;\">\n",
       "    <td style=\"padding: 0 1em 0 0.5em; text-align: right; border: none;\">\n",
       "        +0.302\n",
       "    </td>\n",
       "    <td style=\"padding: 0 0.5em 0 0.5em; text-align: left; border: none;\">\n",
       "        Ljava.lang.Class.getMethod\n",
       "    </td>\n",
       "    \n",
       "</tr>\n",
       "        \n",
       "            <tr style=\"background-color: hsl(120, 100.00%, 96.29%); border: none;\">\n",
       "    <td style=\"padding: 0 1em 0 0.5em; text-align: right; border: none;\">\n",
       "        +0.253\n",
       "    </td>\n",
       "    <td style=\"padding: 0 0.5em 0 0.5em; text-align: left; border: none;\">\n",
       "        ACCESS_FINE_LOCATION\n",
       "    </td>\n",
       "    \n",
       "</tr>\n",
       "        \n",
       "            <tr style=\"background-color: hsl(120, 100.00%, 96.30%); border: none;\">\n",
       "    <td style=\"padding: 0 1em 0 0.5em; text-align: right; border: none;\">\n",
       "        +0.252\n",
       "    </td>\n",
       "    <td style=\"padding: 0 0.5em 0 0.5em; text-align: left; border: none;\">\n",
       "        Ljava.lang.Class.getPackage\n",
       "    </td>\n",
       "    \n",
       "</tr>\n",
       "        \n",
       "            <tr style=\"background-color: hsl(120, 100.00%, 97.55%); border: none;\">\n",
       "    <td style=\"padding: 0 1em 0 0.5em; text-align: right; border: none;\">\n",
       "        +0.139\n",
       "    </td>\n",
       "    <td style=\"padding: 0 0.5em 0 0.5em; text-align: left; border: none;\">\n",
       "        BIND_WALLPAPER\n",
       "    </td>\n",
       "    \n",
       "</tr>\n",
       "        \n",
       "            <tr style=\"background-color: hsl(120, 100.00%, 98.02%); border: none;\">\n",
       "    <td style=\"padding: 0 1em 0 0.5em; text-align: right; border: none;\">\n",
       "        +0.103\n",
       "    </td>\n",
       "    <td style=\"padding: 0 0.5em 0 0.5em; text-align: left; border: none;\">\n",
       "        WRITE_EXTERNAL_STORAGE\n",
       "    </td>\n",
       "    \n",
       "</tr>\n",
       "        \n",
       "            <tr style=\"background-color: hsl(120, 100.00%, 99.04%); border: none;\">\n",
       "    <td style=\"padding: 0 1em 0 0.5em; text-align: right; border: none;\">\n",
       "        +0.036\n",
       "    </td>\n",
       "    <td style=\"padding: 0 0.5em 0 0.5em; text-align: left; border: none;\">\n",
       "        ACCESS_WIFI_STATE\n",
       "    </td>\n",
       "    \n",
       "</tr>\n",
       "        \n",
       "            <tr style=\"background-color: hsl(120, 100.00%, 99.09%); border: none;\">\n",
       "    <td style=\"padding: 0 1em 0 0.5em; text-align: right; border: none;\">\n",
       "        +0.034\n",
       "    </td>\n",
       "    <td style=\"padding: 0 0.5em 0 0.5em; text-align: left; border: none;\">\n",
       "        mount\n",
       "    </td>\n",
       "    \n",
       "</tr>\n",
       "        \n",
       "        \n",
       "\n",
       "        \n",
       "        \n",
       "            <tr style=\"background-color: hsl(0, 100.00%, 99.22%); border: none;\">\n",
       "    <td style=\"padding: 0 1em 0 0.5em; text-align: right; border: none;\">\n",
       "        -0.027\n",
       "    </td>\n",
       "    <td style=\"padding: 0 0.5em 0 0.5em; text-align: left; border: none;\">\n",
       "        BLUETOOTH\n",
       "    </td>\n",
       "    \n",
       "</tr>\n",
       "        \n",
       "            <tr style=\"background-color: hsl(0, 100.00%, 98.72%); border: none;\">\n",
       "    <td style=\"padding: 0 1em 0 0.5em; text-align: right; border: none;\">\n",
       "        -0.055\n",
       "    </td>\n",
       "    <td style=\"padding: 0 0.5em 0 0.5em; text-align: left; border: none;\">\n",
       "        Runtime.getRuntime\n",
       "    </td>\n",
       "    \n",
       "</tr>\n",
       "        \n",
       "            <tr style=\"background-color: hsl(0, 100.00%, 98.02%); border: none;\">\n",
       "    <td style=\"padding: 0 1em 0 0.5em; text-align: right; border: none;\">\n",
       "        -0.103\n",
       "    </td>\n",
       "    <td style=\"padding: 0 0.5em 0 0.5em; text-align: left; border: none;\">\n",
       "        bindService\n",
       "    </td>\n",
       "    \n",
       "</tr>\n",
       "        \n",
       "            <tr style=\"background-color: hsl(0, 100.00%, 98.00%); border: none;\">\n",
       "    <td style=\"padding: 0 1em 0 0.5em; text-align: right; border: none;\">\n",
       "        -0.104\n",
       "    </td>\n",
       "    <td style=\"padding: 0 0.5em 0 0.5em; text-align: left; border: none;\">\n",
       "        IBinder\n",
       "    </td>\n",
       "    \n",
       "</tr>\n",
       "        \n",
       "            <tr style=\"background-color: hsl(0, 100.00%, 97.93%); border: none;\">\n",
       "    <td style=\"padding: 0 1em 0 0.5em; text-align: right; border: none;\">\n",
       "        -0.110\n",
       "    </td>\n",
       "    <td style=\"padding: 0 0.5em 0 0.5em; text-align: left; border: none;\">\n",
       "        Landroid.content.Context.registerReceiver\n",
       "    </td>\n",
       "    \n",
       "</tr>\n",
       "        \n",
       "            <tr style=\"background-color: hsl(0, 100.00%, 97.58%); border: none;\">\n",
       "    <td style=\"padding: 0 1em 0 0.5em; text-align: right; border: none;\">\n",
       "        -0.137\n",
       "    </td>\n",
       "    <td style=\"padding: 0 0.5em 0 0.5em; text-align: left; border: none;\">\n",
       "        ACCESS_NETWORK_STATE\n",
       "    </td>\n",
       "    \n",
       "</tr>\n",
       "        \n",
       "            <tr style=\"background-color: hsl(0, 100.00%, 97.40%); border: none;\">\n",
       "    <td style=\"padding: 0 1em 0 0.5em; text-align: right; border: none;\">\n",
       "        -0.152\n",
       "    </td>\n",
       "    <td style=\"padding: 0 0.5em 0 0.5em; text-align: left; border: none;\">\n",
       "        BATTERY_STATS\n",
       "    </td>\n",
       "    \n",
       "</tr>\n",
       "        \n",
       "            <tr style=\"background-color: hsl(0, 100.00%, 97.21%); border: none;\">\n",
       "    <td style=\"padding: 0 1em 0 0.5em; text-align: right; border: none;\">\n",
       "        -0.168\n",
       "    </td>\n",
       "    <td style=\"padding: 0 0.5em 0 0.5em; text-align: left; border: none;\">\n",
       "        android.content.pm.PackageInfo\n",
       "    </td>\n",
       "    \n",
       "</tr>\n",
       "        \n",
       "            <tr style=\"background-color: hsl(0, 100.00%, 97.04%); border: none;\">\n",
       "    <td style=\"padding: 0 1em 0 0.5em; text-align: right; border: none;\">\n",
       "        -0.183\n",
       "    </td>\n",
       "    <td style=\"padding: 0 0.5em 0 0.5em; text-align: left; border: none;\">\n",
       "        READ_EXTERNAL_STORAGE\n",
       "    </td>\n",
       "    \n",
       "</tr>\n",
       "        \n",
       "            <tr style=\"background-color: hsl(0, 100.00%, 96.99%); border: none;\">\n",
       "    <td style=\"padding: 0 1em 0 0.5em; text-align: right; border: none;\">\n",
       "        -0.187\n",
       "    </td>\n",
       "    <td style=\"padding: 0 0.5em 0 0.5em; text-align: left; border: none;\">\n",
       "        android.intent.action.TIMEZONE_CHANGED\n",
       "    </td>\n",
       "    \n",
       "</tr>\n",
       "        \n",
       "            <tr style=\"background-color: hsl(0, 100.00%, 96.80%); border: none;\">\n",
       "    <td style=\"padding: 0 1em 0 0.5em; text-align: right; border: none;\">\n",
       "        -0.204\n",
       "    </td>\n",
       "    <td style=\"padding: 0 0.5em 0 0.5em; text-align: left; border: none;\">\n",
       "        TelephonyManager.getNetworkOperator\n",
       "    </td>\n",
       "    \n",
       "</tr>\n",
       "        \n",
       "            <tr style=\"background-color: hsl(0, 100.00%, 96.59%); border: none;\">\n",
       "    <td style=\"padding: 0 1em 0 0.5em; text-align: right; border: none;\">\n",
       "        -0.224\n",
       "    </td>\n",
       "    <td style=\"padding: 0 0.5em 0 0.5em; text-align: left; border: none;\">\n",
       "        Ljava.lang.Class.forName\n",
       "    </td>\n",
       "    \n",
       "</tr>\n",
       "        \n",
       "            <tr style=\"background-color: hsl(0, 100.00%, 95.95%); border: none;\">\n",
       "    <td style=\"padding: 0 1em 0 0.5em; text-align: right; border: none;\">\n",
       "        -0.286\n",
       "    </td>\n",
       "    <td style=\"padding: 0 0.5em 0 0.5em; text-align: left; border: none;\">\n",
       "        CALL_PHONE\n",
       "    </td>\n",
       "    \n",
       "</tr>\n",
       "        \n",
       "            <tr style=\"background-color: hsl(0, 100.00%, 95.59%); border: none;\">\n",
       "    <td style=\"padding: 0 1em 0 0.5em; text-align: right; border: none;\">\n",
       "        -0.323\n",
       "    </td>\n",
       "    <td style=\"padding: 0 0.5em 0 0.5em; text-align: left; border: none;\">\n",
       "        BROADCAST_STICKY\n",
       "    </td>\n",
       "    \n",
       "</tr>\n",
       "        \n",
       "            <tr style=\"background-color: hsl(0, 100.00%, 95.03%); border: none;\">\n",
       "    <td style=\"padding: 0 1em 0 0.5em; text-align: right; border: none;\">\n",
       "        -0.383\n",
       "    </td>\n",
       "    <td style=\"padding: 0 0.5em 0 0.5em; text-align: left; border: none;\">\n",
       "        WRITE_SETTINGS\n",
       "    </td>\n",
       "    \n",
       "</tr>\n",
       "        \n",
       "            <tr style=\"background-color: hsl(0, 100.00%, 94.86%); border: none;\">\n",
       "    <td style=\"padding: 0 1em 0 0.5em; text-align: right; border: none;\">\n",
       "        -0.401\n",
       "    </td>\n",
       "    <td style=\"padding: 0 0.5em 0 0.5em; text-align: left; border: none;\">\n",
       "        android.intent.action.ACTION_SHUTDOWN\n",
       "    </td>\n",
       "    \n",
       "</tr>\n",
       "        \n",
       "            <tr style=\"background-color: hsl(0, 100.00%, 94.77%); border: none;\">\n",
       "    <td style=\"padding: 0 1em 0 0.5em; text-align: right; border: none;\">\n",
       "        -0.412\n",
       "    </td>\n",
       "    <td style=\"padding: 0 0.5em 0 0.5em; text-align: left; border: none;\">\n",
       "        Ljava.lang.Class.getMethods\n",
       "    </td>\n",
       "    \n",
       "</tr>\n",
       "        \n",
       "            <tr style=\"background-color: hsl(0, 100.00%, 94.76%); border: none;\">\n",
       "    <td style=\"padding: 0 1em 0 0.5em; text-align: right; border: none;\">\n",
       "        -0.413\n",
       "    </td>\n",
       "    <td style=\"padding: 0 0.5em 0 0.5em; text-align: left; border: none;\">\n",
       "        MANAGE_ACCOUNTS\n",
       "    </td>\n",
       "    \n",
       "</tr>\n",
       "        \n",
       "            <tr style=\"background-color: hsl(0, 100.00%, 94.54%); border: none;\">\n",
       "    <td style=\"padding: 0 1em 0 0.5em; text-align: right; border: none;\">\n",
       "        -0.438\n",
       "    </td>\n",
       "    <td style=\"padding: 0 0.5em 0 0.5em; text-align: left; border: none;\">\n",
       "        USE_CREDENTIALS\n",
       "    </td>\n",
       "    \n",
       "</tr>\n",
       "        \n",
       "            <tr style=\"background-color: hsl(0, 100.00%, 94.50%); border: none;\">\n",
       "    <td style=\"padding: 0 1em 0 0.5em; text-align: right; border: none;\">\n",
       "        -0.442\n",
       "    </td>\n",
       "    <td style=\"padding: 0 0.5em 0 0.5em; text-align: left; border: none;\">\n",
       "        getBinder\n",
       "    </td>\n",
       "    \n",
       "</tr>\n",
       "        \n",
       "            <tr style=\"background-color: hsl(0, 100.00%, 94.41%); border: none;\">\n",
       "    <td style=\"padding: 0 1em 0 0.5em; text-align: right; border: none;\">\n",
       "        -0.453\n",
       "    </td>\n",
       "    <td style=\"padding: 0 0.5em 0 0.5em; text-align: left; border: none;\">\n",
       "        Ljavax.crypto.spec.SecretKeySpec\n",
       "    </td>\n",
       "    \n",
       "</tr>\n",
       "        \n",
       "            <tr style=\"background-color: hsl(0, 100.00%, 94.26%); border: none;\">\n",
       "    <td style=\"padding: 0 1em 0 0.5em; text-align: right; border: none;\">\n",
       "        -0.470\n",
       "    </td>\n",
       "    <td style=\"padding: 0 0.5em 0 0.5em; text-align: left; border: none;\">\n",
       "        transact\n",
       "    </td>\n",
       "    \n",
       "</tr>\n",
       "        \n",
       "            <tr style=\"background-color: hsl(0, 100.00%, 94.26%); border: none;\">\n",
       "    <td style=\"padding: 0 1em 0 0.5em; text-align: right; border: none;\">\n",
       "        -0.470\n",
       "    </td>\n",
       "    <td style=\"padding: 0 0.5em 0 0.5em; text-align: left; border: none;\">\n",
       "        attachInterface\n",
       "    </td>\n",
       "    \n",
       "</tr>\n",
       "        \n",
       "            <tr style=\"background-color: hsl(0, 100.00%, 94.25%); border: none;\">\n",
       "    <td style=\"padding: 0 1em 0 0.5em; text-align: right; border: none;\">\n",
       "        -0.471\n",
       "    </td>\n",
       "    <td style=\"padding: 0 0.5em 0 0.5em; text-align: left; border: none;\">\n",
       "        NFC\n",
       "    </td>\n",
       "    \n",
       "</tr>\n",
       "        \n",
       "            <tr style=\"background-color: hsl(0, 100.00%, 94.21%); border: none;\">\n",
       "    <td style=\"padding: 0 1em 0 0.5em; text-align: right; border: none;\">\n",
       "        -0.476\n",
       "    </td>\n",
       "    <td style=\"padding: 0 0.5em 0 0.5em; text-align: left; border: none;\">\n",
       "        Ljava.lang.Object.getClass\n",
       "    </td>\n",
       "    \n",
       "</tr>\n",
       "        \n",
       "            <tr style=\"background-color: hsl(0, 100.00%, 93.94%); border: none;\">\n",
       "    <td style=\"padding: 0 1em 0 0.5em; text-align: right; border: none;\">\n",
       "        -0.509\n",
       "    </td>\n",
       "    <td style=\"padding: 0 0.5em 0 0.5em; text-align: left; border: none;\">\n",
       "        CAMERA\n",
       "    </td>\n",
       "    \n",
       "</tr>\n",
       "        \n",
       "            <tr style=\"background-color: hsl(0, 100.00%, 93.87%); border: none;\">\n",
       "    <td style=\"padding: 0 1em 0 0.5em; text-align: right; border: none;\">\n",
       "        -0.517\n",
       "    </td>\n",
       "    <td style=\"padding: 0 0.5em 0 0.5em; text-align: left; border: none;\">\n",
       "        getCallingUid\n",
       "    </td>\n",
       "    \n",
       "</tr>\n",
       "        \n",
       "            <tr style=\"background-color: hsl(0, 100.00%, 93.74%); border: none;\">\n",
       "    <td style=\"padding: 0 1em 0 0.5em; text-align: right; border: none;\">\n",
       "        -0.533\n",
       "    </td>\n",
       "    <td style=\"padding: 0 0.5em 0 0.5em; text-align: left; border: none;\">\n",
       "        Binder\n",
       "    </td>\n",
       "    \n",
       "</tr>\n",
       "        \n",
       "            <tr style=\"background-color: hsl(0, 100.00%, 93.31%); border: none;\">\n",
       "    <td style=\"padding: 0 1em 0 0.5em; text-align: right; border: none;\">\n",
       "        -0.586\n",
       "    </td>\n",
       "    <td style=\"padding: 0 0.5em 0 0.5em; text-align: left; border: none;\">\n",
       "        READ_SYNC_SETTINGS\n",
       "    </td>\n",
       "    \n",
       "</tr>\n",
       "        \n",
       "            <tr style=\"background-color: hsl(0, 100.00%, 92.74%); border: none;\">\n",
       "    <td style=\"padding: 0 1em 0 0.5em; text-align: right; border: none;\">\n",
       "        -0.658\n",
       "    </td>\n",
       "    <td style=\"padding: 0 0.5em 0 0.5em; text-align: left; border: none;\">\n",
       "        android.intent.action.TIME_SET\n",
       "    </td>\n",
       "    \n",
       "</tr>\n",
       "        \n",
       "            <tr style=\"background-color: hsl(0, 100.00%, 92.67%); border: none;\">\n",
       "    <td style=\"padding: 0 1em 0 0.5em; text-align: right; border: none;\">\n",
       "        -0.667\n",
       "    </td>\n",
       "    <td style=\"padding: 0 0.5em 0 0.5em; text-align: left; border: none;\">\n",
       "        HttpGet.init\n",
       "    </td>\n",
       "    \n",
       "</tr>\n",
       "        \n",
       "            <tr style=\"background-color: hsl(0, 100.00%, 92.48%); border: none;\">\n",
       "    <td style=\"padding: 0 1em 0 0.5em; text-align: right; border: none;\">\n",
       "        -0.692\n",
       "    </td>\n",
       "    <td style=\"padding: 0 0.5em 0 0.5em; text-align: left; border: none;\">\n",
       "        WRITE_CONTACTS\n",
       "    </td>\n",
       "    \n",
       "</tr>\n",
       "        \n",
       "            <tr style=\"background-color: hsl(0, 100.00%, 92.27%); border: none;\">\n",
       "    <td style=\"padding: 0 1em 0 0.5em; text-align: right; border: none;\">\n",
       "        -0.720\n",
       "    </td>\n",
       "    <td style=\"padding: 0 0.5em 0 0.5em; text-align: left; border: none;\">\n",
       "        URLClassLoader\n",
       "    </td>\n",
       "    \n",
       "</tr>\n",
       "        \n",
       "            <tr style=\"background-color: hsl(0, 100.00%, 91.96%); border: none;\">\n",
       "    <td style=\"padding: 0 1em 0 0.5em; text-align: right; border: none;\">\n",
       "        -0.761\n",
       "    </td>\n",
       "    <td style=\"padding: 0 0.5em 0 0.5em; text-align: left; border: none;\">\n",
       "        TelephonyManager.getSimOperator\n",
       "    </td>\n",
       "    \n",
       "</tr>\n",
       "        \n",
       "            <tr style=\"background-color: hsl(0, 100.00%, 91.48%); border: none;\">\n",
       "    <td style=\"padding: 0 1em 0 0.5em; text-align: right; border: none;\">\n",
       "        -0.827\n",
       "    </td>\n",
       "    <td style=\"padding: 0 0.5em 0 0.5em; text-align: left; border: none;\">\n",
       "        TelephonyManager.isNetworkRoaming\n",
       "    </td>\n",
       "    \n",
       "</tr>\n",
       "        \n",
       "            <tr style=\"background-color: hsl(0, 100.00%, 91.41%); border: none;\">\n",
       "    <td style=\"padding: 0 1em 0 0.5em; text-align: right; border: none;\">\n",
       "        -0.837\n",
       "    </td>\n",
       "    <td style=\"padding: 0 0.5em 0 0.5em; text-align: left; border: none;\">\n",
       "        System.loadLibrary\n",
       "    </td>\n",
       "    \n",
       "</tr>\n",
       "        \n",
       "            <tr style=\"background-color: hsl(0, 100.00%, 91.24%); border: none;\">\n",
       "    <td style=\"padding: 0 1em 0 0.5em; text-align: right; border: none;\">\n",
       "        -0.860\n",
       "    </td>\n",
       "    <td style=\"padding: 0 0.5em 0 0.5em; text-align: left; border: none;\">\n",
       "        Landroid.content.Context.unregisterReceiver\n",
       "    </td>\n",
       "    \n",
       "</tr>\n",
       "        \n",
       "            <tr style=\"background-color: hsl(0, 100.00%, 91.17%); border: none;\">\n",
       "    <td style=\"padding: 0 1em 0 0.5em; text-align: right; border: none;\">\n",
       "        -0.871\n",
       "    </td>\n",
       "    <td style=\"padding: 0 0.5em 0 0.5em; text-align: left; border: none;\">\n",
       "        ClassLoader\n",
       "    </td>\n",
       "    \n",
       "</tr>\n",
       "        \n",
       "            <tr style=\"background-color: hsl(0, 100.00%, 90.96%); border: none;\">\n",
       "    <td style=\"padding: 0 1em 0 0.5em; text-align: right; border: none;\">\n",
       "        -0.901\n",
       "    </td>\n",
       "    <td style=\"padding: 0 0.5em 0 0.5em; text-align: left; border: none;\">\n",
       "        onServiceConnected\n",
       "    </td>\n",
       "    \n",
       "</tr>\n",
       "        \n",
       "            <tr style=\"background-color: hsl(0, 100.00%, 90.90%); border: none;\">\n",
       "    <td style=\"padding: 0 1em 0 0.5em; text-align: right; border: none;\">\n",
       "        -0.909\n",
       "    </td>\n",
       "    <td style=\"padding: 0 0.5em 0 0.5em; text-align: left; border: none;\">\n",
       "        MODIFY_AUDIO_SETTINGS\n",
       "    </td>\n",
       "    \n",
       "</tr>\n",
       "        \n",
       "            <tr style=\"background-color: hsl(0, 100.00%, 90.30%); border: none;\">\n",
       "    <td style=\"padding: 0 1em 0 0.5em; text-align: right; border: none;\">\n",
       "        -0.996\n",
       "    </td>\n",
       "    <td style=\"padding: 0 0.5em 0 0.5em; text-align: left; border: none;\">\n",
       "        CHANGE_NETWORK_STATE\n",
       "    </td>\n",
       "    \n",
       "</tr>\n",
       "        \n",
       "            <tr style=\"background-color: hsl(0, 100.00%, 89.85%); border: none;\">\n",
       "    <td style=\"padding: 0 1em 0 0.5em; text-align: right; border: none;\">\n",
       "        -1.062\n",
       "    </td>\n",
       "    <td style=\"padding: 0 0.5em 0 0.5em; text-align: left; border: none;\">\n",
       "        Ljava.net.URLDecoder\n",
       "    </td>\n",
       "    \n",
       "</tr>\n",
       "        \n",
       "            <tr style=\"background-color: hsl(0, 100.00%, 87.75%); border: none;\">\n",
       "    <td style=\"padding: 0 1em 0 0.5em; text-align: right; border: none;\">\n",
       "        -1.389\n",
       "    </td>\n",
       "    <td style=\"padding: 0 0.5em 0 0.5em; text-align: left; border: none;\">\n",
       "        android.intent.action.SEND\n",
       "    </td>\n",
       "    \n",
       "</tr>\n",
       "        \n",
       "            <tr style=\"background-color: hsl(0, 100.00%, 87.42%); border: none;\">\n",
       "    <td style=\"padding: 0 1em 0 0.5em; text-align: right; border: none;\">\n",
       "        -1.443\n",
       "    </td>\n",
       "    <td style=\"padding: 0 0.5em 0 0.5em; text-align: left; border: none;\">\n",
       "        GET_ACCOUNTS\n",
       "    </td>\n",
       "    \n",
       "</tr>\n",
       "        \n",
       "            <tr style=\"background-color: hsl(0, 100.00%, 86.57%); border: none;\">\n",
       "    <td style=\"padding: 0 1em 0 0.5em; text-align: right; border: none;\">\n",
       "        -1.584\n",
       "    </td>\n",
       "    <td style=\"padding: 0 0.5em 0 0.5em; text-align: left; border: none;\">\n",
       "        android.intent.action.PACKAGE_REPLACED\n",
       "    </td>\n",
       "    \n",
       "</tr>\n",
       "        \n",
       "            <tr style=\"background-color: hsl(0, 100.00%, 86.03%); border: none;\">\n",
       "    <td style=\"padding: 0 1em 0 0.5em; text-align: right; border: none;\">\n",
       "        -1.677\n",
       "    </td>\n",
       "    <td style=\"padding: 0 0.5em 0 0.5em; text-align: left; border: none;\">\n",
       "        Ljava.lang.Class.getCanonicalName\n",
       "    </td>\n",
       "    \n",
       "</tr>\n",
       "        \n",
       "            <tr style=\"background-color: hsl(0, 100.00%, 82.81%); border: none;\">\n",
       "    <td style=\"padding: 0 1em 0 0.5em; text-align: right; border: none;\">\n",
       "        -2.254\n",
       "    </td>\n",
       "    <td style=\"padding: 0 0.5em 0 0.5em; text-align: left; border: none;\">\n",
       "        sendMultipartTextMessage\n",
       "    </td>\n",
       "    \n",
       "</tr>\n",
       "        \n",
       "            <tr style=\"background-color: hsl(0, 100.00%, 81.84%); border: none;\">\n",
       "    <td style=\"padding: 0 1em 0 0.5em; text-align: right; border: none;\">\n",
       "        -2.438\n",
       "    </td>\n",
       "    <td style=\"padding: 0 0.5em 0 0.5em; text-align: left; border: none;\">\n",
       "        &lt;BIAS&gt;\n",
       "    </td>\n",
       "    \n",
       "</tr>\n",
       "        \n",
       "\n",
       "        </tbody>\n",
       "    </table>\n",
       "\n",
       "            \n",
       "        \n",
       "\n",
       "        \n",
       "\n",
       "\n",
       "\n",
       "    \n",
       "\n",
       "    \n",
       "\n",
       "    \n",
       "\n",
       "    \n",
       "\n",
       "\n",
       "    \n",
       "\n",
       "    \n",
       "\n",
       "    \n",
       "\n",
       "    \n",
       "\n",
       "    \n",
       "\n",
       "    \n",
       "\n",
       "\n",
       "    \n",
       "\n",
       "    \n",
       "\n",
       "    \n",
       "\n",
       "    \n",
       "\n",
       "    \n",
       "\n",
       "    \n",
       "\n",
       "\n",
       "\n"
      ],
      "text/plain": [
       "<IPython.core.display.HTML object>"
      ]
     },
     "execution_count": 219,
     "metadata": {},
     "output_type": "execute_result"
    }
   ],
   "source": [
    "#L1 for Lasso\n",
    "from sklearn.linear_model import LogisticRegression \n",
    "logreg = LogisticRegression(penalty='l1', C=0.1, solver='liblinear')\n",
    "logreg.fit(X_train_dup, y_train_dup)\n",
    "eli5.show_weights(logreg, top=-1, feature_names = X_train_dup.columns.tolist())"
   ]
  },
  {
   "cell_type": "markdown",
   "id": "fff9031f-7e7e-43ab-90f4-bdaed9824506",
   "metadata": {},
   "source": [
    "#### Data transformation\n",
    "\n",
    "All features with coeff greater than 0 will be taken into account during prediction(32 features have  coeff > 0)."
   ]
  },
  {
   "cell_type": "code",
   "execution_count": 211,
   "id": "b6f1e36d-30ea-4500-a8db-0deee55ac75c",
   "metadata": {},
   "outputs": [],
   "source": [
    "coef_df=pd.DataFrame(logreg.coef_,columns=X_train.columns).T.reset_index()\n",
    "coef_df.columns =['Feature', 'Coef']\n",
    "coef_df_sorted = coef_df[coef_df.Coef > 0]\n",
    "Selected_Features = X_dup[coef_df_sorted['Feature']]"
   ]
  },
  {
   "cell_type": "markdown",
   "id": "683c52b6-808c-4e19-9c33-7111faf7aa8d",
   "metadata": {},
   "source": [
    "#### Prediction of Lasso selected features"
   ]
  },
  {
   "cell_type": "code",
   "execution_count": 213,
   "id": "9ba68e59-7725-4700-8545-a6aebba2e449",
   "metadata": {},
   "outputs": [],
   "source": [
    "# splitting dataset\n",
    "X_train_lasso, X_test_lasso, y_train_lasso, y_test_lasso = train_test_split(Selected_Features, y_dup, test_size=0.2, random_state=42) "
   ]
  },
  {
   "cell_type": "code",
   "execution_count": 214,
   "id": "5cd1c7ed-0bf9-4729-9672-ff553acd03b2",
   "metadata": {},
   "outputs": [
    {
     "name": "stdout",
     "output_type": "stream",
     "text": [
      "Accuracy after lasso selected features:97.00797872340425%\n"
     ]
    }
   ],
   "source": [
    "svm_malware_tuned = SVC(C = 10, kernel = 'rbf',gamma = 0.1)\n",
    "svm_malware_tuned.fit(X_train_lasso, y_train_lasso)\n",
    "pred_tuned = svm_malware_tuned.predict(X_test_lasso)\n",
    "acc_tuned = metrics.accuracy_score(pred_tuned, y_test_lasso)*100\n",
    "print(\"Accuracy after lasso selected features:\" + str(acc_tuned)+ \"%\")"
   ]
  },
  {
   "cell_type": "markdown",
   "id": "cb048a76-af01-453b-a33b-da1c87f7a88c",
   "metadata": {},
   "source": [
    "Logistic Regression is a valuable tool that can be used in feature selection. However, given the nature of this dataset, previous findings, and reduction of accuracy(however much smaller penalty than kBest) one's again the conclusion is that reducing the number of features is not advisable as it reduces the accuracy of the prediction."
   ]
  },
  {
   "cell_type": "markdown",
   "id": "4a114be1-91ac-4ff7-8a89-3437457ebf7c",
   "metadata": {},
   "source": [
    "# References"
   ]
  },
  {
   "cell_type": "markdown",
   "id": "4be570a4-9f8b-4c02-9786-14137d191bba",
   "metadata": {},
   "source": [
    "1. Vijayanand. C. D, Arunlal. K. S. (2019). Impact of Malware in Modern Society. International Journal of Scientific Research and Engineering Development, 2(3), 593–600.\n",
    "\n",
    "2. Arp, D., Spreitzenbarth, M., Hübner, M., Gascon, H., & Rieck, K. (2014). Drebin: Effective and Explainable Detection of Android Malware in Your Pocket. Proceedings 2014 Network and Distributed System Security Symposium. Network and Distributed System Security Symposium, San Diego, CA. https://doi.org/10.14722/ndss.2014.23247\n",
    "\n",
    "3. Lameski, P., Zdravevski, E., Mingov, R., & Kulakov, A. (2015). SVM Parameter Tuning with Grid Search and Its Impact on Reduction of Model Over-fitting. In Y. Yao, Q. Hu, H. Yu, & J. W. Grzymala-Busse (Eds.), Rough Sets, Fuzzy Sets, Data Mining, and Granular Computing (Vol. 9437, pp. 464–474). Springer International Publishing. https://doi.org/10.1007/978-3-319-25783-9_41"
   ]
  }
 ],
 "metadata": {
  "kernelspec": {
   "display_name": "iphythonKernel",
   "language": "python",
   "name": "ipythonkernel"
  },
  "language_info": {
   "codemirror_mode": {
    "name": "ipython",
    "version": 3
   },
   "file_extension": ".py",
   "mimetype": "text/x-python",
   "name": "python",
   "nbconvert_exporter": "python",
   "pygments_lexer": "ipython3",
   "version": "3.8.10"
  }
 },
 "nbformat": 4,
 "nbformat_minor": 5
}
